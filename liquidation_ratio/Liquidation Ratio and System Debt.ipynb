{
 "cells": [
  {
   "cell_type": "code",
   "execution_count": null,
   "id": "75463595-2490-43ee-9a52-eacb67281fb1",
   "metadata": {},
   "outputs": [],
   "source": []
  },
  {
   "cell_type": "code",
   "execution_count": 1,
   "id": "975d1962-20df-4fc3-acfa-1f1b5ae1eb8e",
   "metadata": {},
   "outputs": [],
   "source": [
    "import time\n",
    "import math\n",
    "import pandas as pd\n",
    "import numpy as np\n",
    "import requests\n",
    "import json\n",
    "import multiprocess\n",
    "from multiprocess import Pool\n",
    "from decimal import Decimal\n",
    "import matplotlib.pyplot as plt\n",
    "import scipy.stats as ss\n",
    "from sklearn.preprocessing import PowerTransformer\n",
    "\n",
    "import seaborn as sns\n",
    "from fitter import Fitter, get_common_distributions, get_distributions\n",
    "\n",
    "from uniswap import get_input_price, get_output_price, buy_to_price\n",
    "from graph_util import fetch_safes, fetch_rp, fetch_debt_ceiling\n",
    "from util import chunks"
   ]
  },
  {
   "cell_type": "code",
   "execution_count": 2,
   "id": "5020dbb6-2c08-405b-bf0f-1869b8136606",
   "metadata": {},
   "outputs": [],
   "source": [
    "plt.rcParams['figure.figsize'] = [12, 8]\n",
    "plt.rcParams['figure.dpi'] = 100 "
   ]
  },
  {
   "cell_type": "markdown",
   "id": "87a9d4a3-b1a6-4a9d-9f4a-945c8fdd9d97",
   "metadata": {},
   "source": [
    "## Overview\n",
    "\n",
    "Explore how system liquidation_ratios affect how much bad debt is created during ETH/USD price dops.\n",
    "\n",
    "## Methodology\n",
    "\n",
    "Simulate an ETH/USD price drop of X%, then use RAI from Uniswap pools to settle resulting collateral auctions. \n",
    "\n",
    "## Simulations\n",
    "\n",
    "1) Using mainnet collateral amounts and c-ratios\n",
    "\n",
    "2) Use mainnet collateral amounts and stochastic c-ratios\n",
    "\n",
    "3) Use stochastic collateral amounts and stochastic c-ratios\n"
   ]
  },
  {
   "cell_type": "markdown",
   "id": "04c72e3b-0870-4666-bf3a-9c5e47ab59d4",
   "metadata": {},
   "source": [
    "## Pessimistic Assumptions\n",
    "### - All RAI for collateral auctions will come from pools. No RAI-holding keepers bid on auctions\n",
    "### - No opposing market forces to push market back towards redemption price when keepers purchase RAI\n",
    "### - RAI maintains market_price = redemption_price on eth shock\n",
    "### - Saviours not considered\n",
    "\n",
    "\n",
    "## Optimistic Assumptions\n",
    "### - *Pool liquidity is not reduced during ETH shock*\n",
    "### - Gas price is not considered\n",
    "### - Surplus buffer not considered, so no surplus auctions,"
   ]
  },
  {
   "cell_type": "markdown",
   "id": "39783d53-cf74-42d9-ac60-7a1a276b58fa",
   "metadata": {},
   "source": [
    "Fetch ETH/USD price, redemption price and all Reflexer SAFEs"
   ]
  },
  {
   "cell_type": "code",
   "execution_count": 3,
   "id": "09f5d793-52b0-4c9b-b68e-636ffea71d17",
   "metadata": {},
   "outputs": [],
   "source": [
    "#graphql_url = 'https://subgraph.reflexer.finance/subgraphs/name/reflexer-labs/rai'\n",
    "graphql_url = 'https://api.thegraph.com/subgraphs/name/reflexer-labs/rai-mainnet'\n",
    "eth_usd_url = 'https://api.coingecko.com/api/v3/simple/price?ids=ethereum&vs_currencies=usd'\n",
    "ETH_USD = requests.get(eth_usd_url).json()['ethereum']['usd']\n",
    "REDEMPTION_PRICE = fetch_rp(graphql_url)\n",
    "DEBT_CEILING = fetch_debt_ceiling(graphql_url)\n",
    "orig_safes = fetch_safes(graphql_url)\n",
    "\n",
    "# only consider SAFEs with debt\n",
    "orig_safes = orig_safes.query('debt > 0').reset_index()"
   ]
  },
  {
   "cell_type": "code",
   "execution_count": 4,
   "id": "d3701922-27aa-4359-8d2e-bc12ed757adf",
   "metadata": {},
   "outputs": [],
   "source": [
    "### Consider Debt Ceiling. (Not currently used)"
   ]
  },
  {
   "cell_type": "code",
   "execution_count": 5,
   "id": "caa9b60b-1cb6-42e7-990d-6ae963ba8a12",
   "metadata": {},
   "outputs": [],
   "source": [
    "sys_cratio = (orig_safes['collateral'].sum() * ETH_USD) / (orig_safes['debt'].sum() * REDEMPTION_PRICE)\n",
    "\n",
    "# Extra debt and collateral that can be created if debt ceiling is exhausted(use system c-ratio)\n",
    "extra_debt = DEBT_CEILING  - orig_safes['debt'].sum()\n",
    "#extra_collateral = (extra_debt * REDEMPTION_PRICE) * sys_cratio / ETH_USD"
   ]
  },
  {
   "cell_type": "markdown",
   "id": "60f39b6d-5356-4561-834d-d686d91ef485",
   "metadata": {},
   "source": [
    "## Mainnet Parameters"
   ]
  },
  {
   "cell_type": "code",
   "execution_count": 6,
   "id": "a66a1e59-ebd9-42de-a12a-5ead7fbb38f7",
   "metadata": {},
   "outputs": [],
   "source": [
    "MAINNET_LIQ_RATIO = 1.40 \n",
    "LIQ_PENALTY = 1.10\n",
    "INITIAL_SURPLUS = 493000\n",
    "MIN_DISCOUNT = 0.92\n",
    "MAX_DISCOUNT = 0.90\n",
    "\n",
    "\n",
    "# use max_discount for collateral_auctions\n",
    "DISCOUNT = MAX_DISCOUNT\n",
    "OSM_RESPONSIVENESS = 0.35 # What percent of SAFE owners avoid liquidation with OSM delay\n",
    "\n",
    "# RAI pools\n",
    "RAI_ETH_V2= 7.04E6\n",
    "RAI_ETH_V3 = 58E3 \n",
    "RAI_DAI_V3 = 3.58E6 \n",
    "RAI_USDC_V3 = 1.11E6 \n",
    "\n",
    "rai_v2_pool = RAI_ETH_V2 + RAI_ETH_V3\n",
    "usd_v2_pool = rai_v2_pool * REDEMPTION_PRICE\n",
    "rai_v3_pool = RAI_DAI_V3 + RAI_USDC_V3\n",
    "usd_v3_pool = rai_v3_pool * REDEMPTION_PRICE\n",
    "\n",
    "SURPLUS_BUFFER = 500000 # Not currently used\n",
    "DISCOUNT_UPDATE_RATE = Decimal(0.999991859697312485818842992) # Not currently used\n",
    "LIQUIDATION_QUANTITY = 90000.00 # Not currently used\n",
    "ON_AUCTION_SYSTEM_COIN_LIMIT = 4025086.73 # Not currently used\n",
    "\n",
    "N_RUNS = 2000\n",
    "LRS = [1.20, 1.25, 1.30, 1.35, 1.40]\n",
    "PCTS = [0.95, 0.99, 0.999]"
   ]
  },
  {
   "cell_type": "code",
   "execution_count": 7,
   "id": "b730df0c-2ecf-4028-93e1-8dd6987a7b56",
   "metadata": {},
   "outputs": [],
   "source": [
    "def update_cratios(safes, eth_price, redemption_price):\n",
    "    # update c-ratio based on `eth_price` and `redemption_price`\n",
    "    new_safes = safes.copy()\n",
    "    new_safes['cratio'] = new_safes['collateral'] * eth_price / (new_safes['debt'] * redemption_price)\n",
    "    return new_safes"
   ]
  },
  {
   "cell_type": "code",
   "execution_count": 8,
   "id": "c2c8b90e-6a42-41c6-b0ea-00bc07096d91",
   "metadata": {},
   "outputs": [],
   "source": [
    "def liquidate_critical(safes, liq_cratio=1.40):\n",
    "    # Return amount of collateral/debt liquidated\n",
    "    critical_safes = safes.query(f'cratio < {liq_cratio}')\n",
    "\n",
    "    critical_collateral = critical_safes['collateral'].sum()\n",
    "    critical_debt = critical_safes['debt'].sum()\n",
    "\n",
    "    return critical_collateral, critical_debt\n",
    "\n",
    "def adjust_safe_debt_and_cratios(safes, debt_adj, eth_price, redemption_price):\n",
    "    # adjust debt by `debt_adj` multiplier\n",
    "    if debt_adj == 1:\n",
    "        return safes\n",
    "    new_safes = safes.copy()\n",
    "    \n",
    "    new_safes['debt'] *= debt_adj\n",
    "\n",
    "    return update_cratios(new_safes, eth_price, redemption_price)"
   ]
  },
  {
   "cell_type": "code",
   "execution_count": 9,
   "id": "39096cdb-1a63-4489-ae30-68c366319fcb",
   "metadata": {},
   "outputs": [],
   "source": [
    "def run(orig_safes, liq_ratio, shock, initial_surplus):\n",
    "    \n",
    "    # `debt_adj` is used to adjust individual SAFE debt to match expected values when liq_ratio is changed\n",
    "    # This preserves safe debt as a multiplier of liq_ratio\n",
    "    debt_adj =  MAINNET_LIQ_RATIO/ liq_ratio\n",
    "    safes = adjust_safe_debt_and_cratios(orig_safes, debt_adj, ETH_USD, REDEMPTION_PRICE)\n",
    "    \n",
    "    # Set eth shock price\n",
    "    eth_shock_price = ETH_USD * (1 - shock)\n",
    "    \n",
    "    # update c-ratios\n",
    "    safes = update_cratios(safes, eth_shock_price, REDEMPTION_PRICE)\n",
    "\n",
    "    # Liquidate all critical SAFEs\n",
    "    critical_collateral, critical_debt = liquidate_critical(safes, liq_ratio)\n",
    "    \n",
    "    critical_collateral *= (1 - OSM_RESPONSIVENESS)\n",
    "    critical_debt *= (1 - OSM_RESPONSIVENESS)\n",
    "    \n",
    "    amount_to_raise = critical_debt * LIQ_PENALTY\n",
    "    discount_collateral_price = eth_shock_price * DISCOUNT\n",
    "    \n",
    "    total_collateral_cost = critical_collateral * discount_collateral_price\n",
    "    \n",
    "    # Use v3 pool \n",
    "    # Assume rai market = redemption price and estimate slippage\n",
    "    rai_v3_market_price = REDEMPTION_PRICE * 1.005 # Estimate slippage in V3 pool.\n",
    "\n",
    "    # Use up to the entire pool to buy discounted collateral\n",
    "    v3_collateral_bought = min((rai_v3_pool * REDEMPTION_PRICE)/discount_collateral_price, critical_collateral) \n",
    "\n",
    "    collateral_left = critical_collateral - v3_collateral_bought\n",
    "\n",
    "    rai_v3_spent = v3_collateral_bought * discount_collateral_price / REDEMPTION_PRICE\n",
    "\n",
    "    amount_raised_v3 = rai_v3_spent\n",
    "\n",
    "    if collateral_left == 0:\n",
    "        amount_deficit = critical_debt - amount_raised_v3\n",
    "    \n",
    "    else: # Then use V2 pool\n",
    "\n",
    "        amount_left_to_raise = amount_to_raise - rai_v3_spent\n",
    "\n",
    "        collateral_left_cost = collateral_left * discount_collateral_price\n",
    "\n",
    "        # max price to pay for RAI to make a profit on discounted collateral\n",
    "        max_market_price = REDEMPTION_PRICE / DISCOUNT\n",
    "\n",
    "        # Max amount to buy to put cost-basis at `max_market_price`\n",
    "        how_much_v2_can_buy = 2 * buy_to_price(None, rai_v2_pool, goal_price=max_market_price, market_price=REDEMPTION_PRICE)\n",
    "\n",
    "        # how is the pool affected when with this swap\n",
    "        # This just confirms the expected final market price\n",
    "        #delta_usd, delta_rai = get_output_price(how_much_v2_can_buy, usd_v2_pool, rai_v2_pool, trade_fee=0.003)\n",
    "        # new market price\n",
    "        #print(f\"market price after buy {(usd_v2_pool + delta_usd)/(rai_v2_pool + delta_rai):.2f}\")\n",
    "\n",
    "        amount_raised_v2 = min(amount_left_to_raise, how_much_v2_can_buy)\n",
    "\n",
    "        amount_deficit = critical_debt - amount_raised_v2 - amount_raised_v3\n",
    "\n",
    "    return initial_surplus - amount_deficit"
   ]
  },
  {
   "cell_type": "markdown",
   "id": "d3e44e82-1f2c-4943-ad85-fd6e9e98b920",
   "metadata": {},
   "source": [
    "# Historical MKR OSM shocks from 2020-08-06 to 2021-09-07"
   ]
  },
  {
   "cell_type": "code",
   "execution_count": 10,
   "id": "24bebae2-062c-4551-9dec-9eb635512b36",
   "metadata": {},
   "outputs": [],
   "source": [
    "df = pd.read_csv('mkr_osm_int.csv')\n",
    "df['price'] = df['price'].astype(float)/10E17\n",
    "\n",
    "# order by time\n",
    "df = df.sort_values('ts')\n",
    "\n",
    "# pct change from previous ts\n",
    "df['pct_change'] = df['price'].pct_change()"
   ]
  },
  {
   "cell_type": "markdown",
   "id": "187aef87-1ece-4d55-af81-4c6c2fcbf345",
   "metadata": {},
   "source": [
    "### Largest hourly pct drops "
   ]
  },
  {
   "cell_type": "code",
   "execution_count": 11,
   "id": "d1b46054-1924-4db1-b7d7-1e9a6cb406b5",
   "metadata": {},
   "outputs": [
    {
     "data": {
      "text/html": [
       "<div>\n",
       "<style scoped>\n",
       "    .dataframe tbody tr th:only-of-type {\n",
       "        vertical-align: middle;\n",
       "    }\n",
       "\n",
       "    .dataframe tbody tr th {\n",
       "        vertical-align: top;\n",
       "    }\n",
       "\n",
       "    .dataframe thead th {\n",
       "        text-align: right;\n",
       "    }\n",
       "</style>\n",
       "<table border=\"1\" class=\"dataframe\">\n",
       "  <thead>\n",
       "    <tr style=\"text-align: right;\">\n",
       "      <th></th>\n",
       "      <th>block</th>\n",
       "      <th>ts</th>\n",
       "      <th>price</th>\n",
       "      <th>pct_change</th>\n",
       "    </tr>\n",
       "  </thead>\n",
       "  <tbody>\n",
       "    <tr>\n",
       "      <th>2464</th>\n",
       "      <td>12422932</td>\n",
       "      <td>2021-05-13 01:02:06 UTC</td>\n",
       "      <td>3831.000000</td>\n",
       "      <td>-0.095507</td>\n",
       "    </tr>\n",
       "    <tr>\n",
       "      <th>2279</th>\n",
       "      <td>12472770</td>\n",
       "      <td>2021-05-20 18:05:07 UTC</td>\n",
       "      <td>2687.000000</td>\n",
       "      <td>-0.083279</td>\n",
       "    </tr>\n",
       "    <tr>\n",
       "      <th>2211</th>\n",
       "      <td>12490963</td>\n",
       "      <td>2021-05-23 14:01:18 UTC</td>\n",
       "      <td>1930.231566</td>\n",
       "      <td>-0.083112</td>\n",
       "    </tr>\n",
       "    <tr>\n",
       "      <th>4350</th>\n",
       "      <td>11912604</td>\n",
       "      <td>2021-02-23 10:00:00 UTC</td>\n",
       "      <td>1470.200000</td>\n",
       "      <td>-0.080550</td>\n",
       "    </tr>\n",
       "    <tr>\n",
       "      <th>2306</th>\n",
       "      <td>12465534</td>\n",
       "      <td>2021-05-19 15:05:05 UTC</td>\n",
       "      <td>2440.160000</td>\n",
       "      <td>-0.071116</td>\n",
       "    </tr>\n",
       "  </tbody>\n",
       "</table>\n",
       "</div>"
      ],
      "text/plain": [
       "         block                       ts        price  pct_change\n",
       "2464  12422932  2021-05-13 01:02:06 UTC  3831.000000   -0.095507\n",
       "2279  12472770  2021-05-20 18:05:07 UTC  2687.000000   -0.083279\n",
       "2211  12490963  2021-05-23 14:01:18 UTC  1930.231566   -0.083112\n",
       "4350  11912604  2021-02-23 10:00:00 UTC  1470.200000   -0.080550\n",
       "2306  12465534  2021-05-19 15:05:05 UTC  2440.160000   -0.071116"
      ]
     },
     "execution_count": 11,
     "metadata": {},
     "output_type": "execute_result"
    }
   ],
   "source": [
    "# show largest pct drops\n",
    "df.sort_values('pct_change').head(5)"
   ]
  },
  {
   "cell_type": "markdown",
   "id": "3d75e7c2-5431-4847-832e-88038f652f3d",
   "metadata": {},
   "source": [
    "### Quantiles"
   ]
  },
  {
   "cell_type": "code",
   "execution_count": 12,
   "id": "b77a046f-923d-410d-b1d8-8e2b283fe6ec",
   "metadata": {},
   "outputs": [
    {
     "data": {
      "text/plain": [
       "(-0.034568015169454853, -0.0597010511121509)"
      ]
     },
     "execution_count": 12,
     "metadata": {},
     "output_type": "execute_result"
    }
   ],
   "source": [
    "df['pct_change'].quantile(0.01), df['pct_change'].quantile(0.001)"
   ]
  },
  {
   "cell_type": "markdown",
   "id": "786c6d13-931f-4df8-bd92-428da5eaa0d1",
   "metadata": {},
   "source": [
    "# Historical Hourly Shocks Using Binance ETH/USDT from 2017-08-17 to 2021-09-07"
   ]
  },
  {
   "cell_type": "code",
   "execution_count": 13,
   "id": "47d2a4ca-d495-4fed-9edf-580be966eb2b",
   "metadata": {},
   "outputs": [
    {
     "name": "stdout",
     "output_type": "stream",
     "text": [
      "Number of hourly ticks 38194\n"
     ]
    }
   ],
   "source": [
    "df = pd.read_csv('Binance_ETHUSDT_1h.csv')\n",
    "df['range'] = df['high'] - df['low']\n",
    "df['pct_change'] = (df['low']/df['high']) - 1\n",
    "print(f\"Number of hourly ticks {len(df)}\")"
   ]
  },
  {
   "cell_type": "markdown",
   "id": "35ff8630-012b-4daa-b7c2-d39c4b0c6d0d",
   "metadata": {},
   "source": [
    "### Largest hourly pct drops in ETH/USDT"
   ]
  },
  {
   "cell_type": "code",
   "execution_count": 14,
   "id": "fb54b961-ca1a-4e8c-a298-99641a8fbc02",
   "metadata": {},
   "outputs": [
    {
     "data": {
      "text/html": [
       "<div>\n",
       "<style scoped>\n",
       "    .dataframe tbody tr th:only-of-type {\n",
       "        vertical-align: middle;\n",
       "    }\n",
       "\n",
       "    .dataframe tbody tr th {\n",
       "        vertical-align: top;\n",
       "    }\n",
       "\n",
       "    .dataframe thead th {\n",
       "        text-align: right;\n",
       "    }\n",
       "</style>\n",
       "<table border=\"1\" class=\"dataframe\">\n",
       "  <thead>\n",
       "    <tr style=\"text-align: right;\">\n",
       "      <th></th>\n",
       "      <th>unix</th>\n",
       "      <th>date</th>\n",
       "      <th>symbol</th>\n",
       "      <th>open</th>\n",
       "      <th>high</th>\n",
       "      <th>low</th>\n",
       "      <th>close</th>\n",
       "      <th>Volume ETH</th>\n",
       "      <th>Volume USDT</th>\n",
       "      <th>tradecount</th>\n",
       "      <th>range</th>\n",
       "      <th>pct_change</th>\n",
       "    </tr>\n",
       "  </thead>\n",
       "  <tbody>\n",
       "    <tr>\n",
       "      <th>38193</th>\n",
       "      <td>1.502942e+09</td>\n",
       "      <td>2017-08-17 04-AM</td>\n",
       "      <td>ETH/USDT</td>\n",
       "      <td>652.74</td>\n",
       "      <td>652.74</td>\n",
       "      <td>298.00</td>\n",
       "      <td>300.79</td>\n",
       "      <td>122.52000</td>\n",
       "      <td>3.673684e+04</td>\n",
       "      <td>NaN</td>\n",
       "      <td>354.74</td>\n",
       "      <td>-0.543463</td>\n",
       "    </tr>\n",
       "    <tr>\n",
       "      <th>38073</th>\n",
       "      <td>1.503374e+09</td>\n",
       "      <td>2017-08-22 04-AM</td>\n",
       "      <td>ETH/USDT</td>\n",
       "      <td>280.00</td>\n",
       "      <td>309.03</td>\n",
       "      <td>144.21</td>\n",
       "      <td>287.00</td>\n",
       "      <td>145.21000</td>\n",
       "      <td>4.085843e+04</td>\n",
       "      <td>NaN</td>\n",
       "      <td>164.82</td>\n",
       "      <td>-0.533346</td>\n",
       "    </tr>\n",
       "    <tr>\n",
       "      <th>2648</th>\n",
       "      <td>1.621426e+12</td>\n",
       "      <td>2021-05-19 12:00:00</td>\n",
       "      <td>ETH/USDT</td>\n",
       "      <td>2721.08</td>\n",
       "      <td>2773.52</td>\n",
       "      <td>1960.00</td>\n",
       "      <td>2365.18</td>\n",
       "      <td>437462.36681</td>\n",
       "      <td>1.069653e+09</td>\n",
       "      <td>475709.0</td>\n",
       "      <td>813.52</td>\n",
       "      <td>-0.293317</td>\n",
       "    </tr>\n",
       "    <tr>\n",
       "      <th>15663</th>\n",
       "      <td>1.584065e+09</td>\n",
       "      <td>2020-03-13 02-AM</td>\n",
       "      <td>ETH/USDT</td>\n",
       "      <td>96.62</td>\n",
       "      <td>120.20</td>\n",
       "      <td>86.00</td>\n",
       "      <td>111.12</td>\n",
       "      <td>463034.33000</td>\n",
       "      <td>4.693567e+07</td>\n",
       "      <td>NaN</td>\n",
       "      <td>34.20</td>\n",
       "      <td>-0.284526</td>\n",
       "    </tr>\n",
       "    <tr>\n",
       "      <th>2647</th>\n",
       "      <td>1.621429e+12</td>\n",
       "      <td>2021-05-19 13:00:00</td>\n",
       "      <td>ETH/USDT</td>\n",
       "      <td>2365.18</td>\n",
       "      <td>2599.00</td>\n",
       "      <td>1888.00</td>\n",
       "      <td>2493.69</td>\n",
       "      <td>493227.88282</td>\n",
       "      <td>1.150495e+09</td>\n",
       "      <td>535285.0</td>\n",
       "      <td>711.00</td>\n",
       "      <td>-0.273567</td>\n",
       "    </tr>\n",
       "  </tbody>\n",
       "</table>\n",
       "</div>"
      ],
      "text/plain": [
       "               unix                 date    symbol     open     high      low  \\\n",
       "38193  1.502942e+09     2017-08-17 04-AM  ETH/USDT   652.74   652.74   298.00   \n",
       "38073  1.503374e+09     2017-08-22 04-AM  ETH/USDT   280.00   309.03   144.21   \n",
       "2648   1.621426e+12  2021-05-19 12:00:00  ETH/USDT  2721.08  2773.52  1960.00   \n",
       "15663  1.584065e+09     2020-03-13 02-AM  ETH/USDT    96.62   120.20    86.00   \n",
       "2647   1.621429e+12  2021-05-19 13:00:00  ETH/USDT  2365.18  2599.00  1888.00   \n",
       "\n",
       "         close    Volume ETH   Volume USDT  tradecount   range  pct_change  \n",
       "38193   300.79     122.52000  3.673684e+04         NaN  354.74   -0.543463  \n",
       "38073   287.00     145.21000  4.085843e+04         NaN  164.82   -0.533346  \n",
       "2648   2365.18  437462.36681  1.069653e+09    475709.0  813.52   -0.293317  \n",
       "15663   111.12  463034.33000  4.693567e+07         NaN   34.20   -0.284526  \n",
       "2647   2493.69  493227.88282  1.150495e+09    535285.0  711.00   -0.273567  "
      ]
     },
     "execution_count": 14,
     "metadata": {},
     "output_type": "execute_result"
    }
   ],
   "source": [
    "df.sort_values('pct_change', ascending=True).head(5)"
   ]
  },
  {
   "cell_type": "markdown",
   "id": "1201765f-a461-428a-9c00-c0598c33b0e8",
   "metadata": {},
   "source": [
    "### Quantiles"
   ]
  },
  {
   "cell_type": "code",
   "execution_count": 15,
   "id": "b31bf340-aec7-4353-ad2e-d772583550fd",
   "metadata": {},
   "outputs": [
    {
     "data": {
      "text/plain": [
       "(-0.0650481169905298, -0.13570589329157023, -0.2755470538713533)"
      ]
     },
     "execution_count": 15,
     "metadata": {},
     "output_type": "execute_result"
    }
   ],
   "source": [
    "df['pct_change'].quantile(0.01),  df['pct_change'].quantile(0.001), df['pct_change'].quantile(0.0001)\n"
   ]
  },
  {
   "cell_type": "markdown",
   "id": "806723d1-6cfb-49a5-bbf1-4c19f9efa384",
   "metadata": {},
   "source": [
    "### Simulate eth shocks using current mainnet collateral and c-ratios"
   ]
  },
  {
   "cell_type": "code",
   "execution_count": 16,
   "id": "a05c21f1-49f9-4749-80ba-a157d6349358",
   "metadata": {},
   "outputs": [
    {
     "data": {
      "image/png": "[encoded data removed]",
      "text/plain": [
       "<Figure size 1200x800 with 1 Axes>"
      ]
     },
     "metadata": {
      "needs_background": "light"
     },
     "output_type": "display_data"
    }
   ],
   "source": [
    "liq_ratios = [1.40, 1.35, 1.25, 1.15, 1.05]\n",
    "all_shocks = np.linspace(0.1, 0.6, 100)\n",
    "\n",
    "for lr in liq_ratios:    \n",
    "    lr_shocks = []\n",
    "    lr_surpluses = []\n",
    "    for s in all_shocks:\n",
    "        surplus = run(orig_safes, lr, s, initial_surplus=INITIAL_SURPLUS)\n",
    "        lr_shocks.append(s)\n",
    "        lr_surpluses.append(surplus)\n",
    "    plt.plot(lr_shocks, lr_surpluses, label=lr)\n",
    "    \n",
    "plt.legend()\n",
    "plt.title('Resulting debt for different liquidation ratios and ETH/USD shocks, given current Reflexer SAFE statuses\\n', fontsize=14)\n",
    "plt.xlabel('ETH/USD Shock (0.5 = 50% drop)', fontsize=16)\n",
    "plt.ylabel('Debt', fontsize=16)\n",
    "plt.grid(True)\n",
    "plt.show()"
   ]
  },
  {
   "cell_type": "markdown",
   "id": "d860b818-8f6e-4e53-9fcd-0c9c28ab3bbc",
   "metadata": {},
   "source": [
    "# Sim #1: Mainnet SAFE collateral amounts and stochastic c-ratios"
   ]
  },
  {
   "cell_type": "code",
   "execution_count": 17,
   "id": "f213c109-3a7f-4323-93f6-22f896798a68",
   "metadata": {
    "tags": []
   },
   "outputs": [
    {
     "data": {
      "image/png": "[encoded data removed]",
      "text/plain": [
       "<Figure size 1200x800 with 1 Axes>"
      ]
     },
     "metadata": {
      "needs_background": "light"
     },
     "output_type": "display_data"
    }
   ],
   "source": [
    "orig_safes = update_cratios(orig_safes, ETH_USD, REDEMPTION_PRICE)\n",
    "orig_safes['cratio'].hist(bins=100)\n",
    "plt.title('Mainnet SAFE C-ratios', fontsize=18)\n",
    "plt.xlabel('C-ratio', fontsize=16)\n",
    "plt.ylabel('Number of SAFEs', fontsize=16)\n",
    "plt.grid(False)\n",
    "plt.show()"
   ]
  },
  {
   "cell_type": "code",
   "execution_count": 18,
   "id": "9d689231-0889-4cc3-984d-34a910c95e34",
   "metadata": {},
   "outputs": [
    {
     "name": "stdout",
     "output_type": "stream",
     "text": [
      "Mainnet system_cratio=3.02\n"
     ]
    }
   ],
   "source": [
    "system_cratio = (orig_safes['collateral'].sum() * ETH_USD) / (orig_safes['debt'].sum() * REDEMPTION_PRICE)\n",
    "print(f\"Mainnet {system_cratio=:.2f}\")"
   ]
  },
  {
   "cell_type": "markdown",
   "id": "d737beed-c640-41ae-8252-8e5097944785",
   "metadata": {},
   "source": [
    "### Fit many distributions to mainnnet c-ratios"
   ]
  },
  {
   "cell_type": "code",
   "execution_count": 19,
   "id": "abe9ba3b-3049-4043-8aaa-6cfdff8099a8",
   "metadata": {},
   "outputs": [
    {
     "name": "stderr",
     "output_type": "stream",
     "text": [
      "WARNING:root:SKIPPED kstwo distribution (taking more than 30 seconds)\n",
      "WARNING:root:SKIPPED rv_continuous distribution (taking more than 30 seconds)\n",
      "WARNING:root:SKIPPED rv_histogram distribution (taking more than 30 seconds)\n",
      "WARNING:root:SKIPPED kappa4 distribution (taking more than 30 seconds)\n",
      "WARNING:root:SKIPPED levy_stable distribution (taking more than 30 seconds)\n",
      "/Users/georgekellerman/github/geb-data-science/venv/lib/python3.9/site-packages/scipy/integrate/quadpack.py:879: IntegrationWarning: The maximum number of subdivisions (50) has been achieved.\n",
      "  If increasing the limit yields no improvement it is advised to analyze \n",
      "  the integrand in order to determine the difficulties.  If the position of a \n",
      "  local difficulty can be determined (singularity, discontinuity) one will \n",
      "  probably gain from splitting up the interval and calling the integrator \n",
      "  on the subranges.  Perhaps a special-purpose integrator should be used.\n",
      "  quad_r = quad(f, low, high, args=args, full_output=self.full_output,\n",
      "WARNING:root:SKIPPED studentized_range distribution (taking more than 30 seconds)\n"
     ]
    },
    {
     "data": {
      "text/html": [
       "<div>\n",
       "<style scoped>\n",
       "    .dataframe tbody tr th:only-of-type {\n",
       "        vertical-align: middle;\n",
       "    }\n",
       "\n",
       "    .dataframe tbody tr th {\n",
       "        vertical-align: top;\n",
       "    }\n",
       "\n",
       "    .dataframe thead th {\n",
       "        text-align: right;\n",
       "    }\n",
       "</style>\n",
       "<table border=\"1\" class=\"dataframe\">\n",
       "  <thead>\n",
       "    <tr style=\"text-align: right;\">\n",
       "      <th></th>\n",
       "      <th>sumsquare_error</th>\n",
       "      <th>aic</th>\n",
       "      <th>bic</th>\n",
       "      <th>kl_div</th>\n",
       "    </tr>\n",
       "  </thead>\n",
       "  <tbody>\n",
       "    <tr>\n",
       "      <th>chi</th>\n",
       "      <td>0.463525</td>\n",
       "      <td>927.418080</td>\n",
       "      <td>-2233.369457</td>\n",
       "      <td>inf</td>\n",
       "    </tr>\n",
       "    <tr>\n",
       "      <th>nakagami</th>\n",
       "      <td>0.463527</td>\n",
       "      <td>927.384438</td>\n",
       "      <td>-2233.368021</td>\n",
       "      <td>inf</td>\n",
       "    </tr>\n",
       "    <tr>\n",
       "      <th>mielke</th>\n",
       "      <td>0.465209</td>\n",
       "      <td>810.715304</td>\n",
       "      <td>-2226.301108</td>\n",
       "      <td>inf</td>\n",
       "    </tr>\n",
       "    <tr>\n",
       "      <th>burr</th>\n",
       "      <td>0.465209</td>\n",
       "      <td>810.714634</td>\n",
       "      <td>-2226.300718</td>\n",
       "      <td>inf</td>\n",
       "    </tr>\n",
       "    <tr>\n",
       "      <th>weibull_min</th>\n",
       "      <td>0.465388</td>\n",
       "      <td>867.120963</td>\n",
       "      <td>-2232.001916</td>\n",
       "      <td>inf</td>\n",
       "    </tr>\n",
       "  </tbody>\n",
       "</table>\n",
       "</div>"
      ],
      "text/plain": [
       "             sumsquare_error         aic          bic  kl_div\n",
       "chi                 0.463525  927.418080 -2233.369457     inf\n",
       "nakagami            0.463527  927.384438 -2233.368021     inf\n",
       "mielke              0.465209  810.715304 -2226.301108     inf\n",
       "burr                0.465209  810.714634 -2226.300718     inf\n",
       "weibull_min         0.465388  867.120963 -2232.001916     inf"
      ]
     },
     "execution_count": 19,
     "metadata": {},
     "output_type": "execute_result"
    },
    {
     "data": {
      "image/png": "[encoded data removed]",
      "text/plain": [
       "<Figure size 1200x800 with 1 Axes>"
      ]
     },
     "metadata": {
      "needs_background": "light"
     },
     "output_type": "display_data"
    }
   ],
   "source": [
    "fitter_cratio = Fitter(orig_safes['cratio'].values)          \n",
    "fitter_cratio.fit()\n",
    "fitter_cratio.summary()"
   ]
  },
  {
   "cell_type": "markdown",
   "id": "d1c0a401-b34e-4271-b770-037899cc9c5e",
   "metadata": {},
   "source": [
    "### Pick the best distribution and generate some c-ratios"
   ]
  },
  {
   "cell_type": "code",
   "execution_count": 20,
   "id": "f492fcb3-3d13-4fef-8d96-772753d1d6dc",
   "metadata": {},
   "outputs": [],
   "source": [
    "# best_cratio = fitter_cratio.get_best(method = 'sumsquare_error')\n",
    "cratio_params = fitter_cratio.fitted_param[\"mielke\"]"
   ]
  },
  {
   "cell_type": "code",
   "execution_count": 21,
   "id": "fcd62c3f-ad0f-4469-8f38-a6043fe8ca6e",
   "metadata": {},
   "outputs": [
    {
     "name": "stderr",
     "output_type": "stream",
     "text": [
      "/Users/georgekellerman/github/geb-data-science/venv/lib/python3.9/site-packages/scipy/integrate/quadpack.py:879: IntegrationWarning: The integral is probably divergent, or slowly convergent.\n",
      "  quad_r = quad(f, low, high, args=args, full_output=self.full_output,\n"
     ]
    },
    {
     "data": {
      "image/png": "[encoded data removed]",
      "text/plain": [
       "<Figure size 1200x800 with 1 Axes>"
      ]
     },
     "metadata": {
      "needs_background": "light"
     },
     "output_type": "display_data"
    }
   ],
   "source": [
    "cratios_r = ss.mielke.rvs(*cratio_params, size=len(orig_safes)*2)\n",
    "cratios_r = cratios_r[cratios_r > MAINNET_LIQ_RATIO]\n",
    "\n",
    "df = pd.DataFrame(cratios_r, columns=['cratio'])\n",
    "df = df.head(len(orig_safes))\n",
    "\n",
    "df['cratio'].hist(bins=100, alpha=0.5, color='red', label='generated')\n",
    "\n",
    "orig_safes['cratio'].hist(bins=100, color='blue', alpha=0.5, label='original')\n",
    "\n",
    "plt.title('SAFE C-ratios', fontsize=18)\n",
    "plt.xlabel('C-ratio', fontsize=16)\n",
    "plt.ylabel('Number of SAFEs', fontsize=16)\n",
    "plt.legend()\n",
    "plt.grid(False)\n",
    "plt.show()"
   ]
  },
  {
   "cell_type": "markdown",
   "id": "51545591-ca69-48f4-8e8e-bcc8c88c4423",
   "metadata": {},
   "source": [
    "# Run Sim #1"
   ]
  },
  {
   "cell_type": "code",
   "execution_count": null,
   "id": "268c2ad7-da7d-4262-97e5-25d233c4d313",
   "metadata": {},
   "outputs": [
    {
     "name": "stdout",
     "output_type": "stream",
     "text": [
      "1.2, 493000, 0.95, 0.255\n",
      "1.2, 493000, 0.99, 0.133\n",
      "1.2, 493000, 0.999, 0.000\n",
      "1.2, 1000000.0, 0.95, 0.273\n",
      "1.2, 1000000.0, 0.99, 0.152\n",
      "1.2, 1000000.0, 0.999, 0.036\n",
      "1.25, 493000, 0.95, 0.273\n",
      "1.25, 493000, 0.99, 0.145\n",
      "1.25, 493000, 0.999, 0.036\n"
     ]
    }
   ],
   "source": [
    "start = time.time()\n",
    "all_shocks = []\n",
    "all_surplus = []\n",
    "\n",
    "min_shock = 0.00\n",
    "max_shock = 0.6\n",
    "shocks = np.linspace(min_shock, max_shock, 100)\n",
    "\n",
    "for lr in LRS:\n",
    "    for initial_surplus in [INITIAL_SURPLUS, 1E6]:\n",
    "        for i in range(N_RUNS):\n",
    "            cratios = ss.mielke.rvs(*cratio_params, size=len(orig_safes)*2)\n",
    "\n",
    "            tmp_safes = pd.DataFrame(cratios, columns=['cratio'])   \n",
    "            tmp_safes['cratio'] = tmp_safes[tmp_safes['cratio'] > MAINNET_LIQ_RATIO]   \n",
    "            tmp_safes = tmp_safes.head(len(orig_safes))\n",
    "\n",
    "            tmp_safes['collateral'] = orig_safes['collateral']\n",
    "\n",
    "            tmp_safes['debt'] = tmp_safes['collateral'] * ETH_USD / REDEMPTION_PRICE / tmp_safes['cratio']\n",
    "            \n",
    "            # Consider debt ceiling, adding more possible debt\n",
    "            added_debt = 0\n",
    "            while added_debt < extra_debt:\n",
    "                new_cr = ss.mielke.rvs(*cratio_params, size=1)[0]\n",
    "                new_coll = tmp_safes['collateral'].sample().iloc[0]\n",
    "                \n",
    "                new_debt = min(new_coll * ETH_USD / REDEMPTION_PRICE / new_cr, extra_debt - added_debt)\n",
    "                added_debt += new_debt\n",
    "                tmp_safes = tmp_safes.append({'cratio': new_cr, 'collateral': new_coll, 'debt': new_debt}, ignore_index=True)\n",
    "                \n",
    "            assert added_debt == extra_debt\n",
    "                \n",
    "            lr_shocks = []\n",
    "            lr_surpluses = []\n",
    "            for s in shocks:\n",
    "                surplus = run(tmp_safes, lr, s, initial_surplus)\n",
    "                lr_shocks.append(s)\n",
    "                lr_surpluses.append(surplus)\n",
    "                all_shocks.append(s)\n",
    "                all_surplus.append(surplus)\n",
    "            \n",
    "                       \n",
    "            #plt.plot(lr_shocks, lr_surpluses, alpha=0.1)\n",
    "\n",
    "        # plot mean\n",
    "        df = pd.DataFrame({'shock': all_shocks,  'surplus': all_surplus})\n",
    "        df_mean = df.groupby('shock').mean().reset_index()\n",
    "        #plt.plot(df_mean['shock'], df_mean['surplus'])\n",
    "\n",
    "\n",
    "        for PCT in PCTS:\n",
    "            df_pct = df.groupby('shock').quantile(1.-PCT).reset_index()\n",
    "            df_100 = df.groupby('shock').quantile(1.0).reset_index()\n",
    "            \n",
    "            \"\"\"\n",
    "            plt.plot(df_pct['shock'], df_pct['surplus'], ':')\n",
    "            plt.plot(df_100['shock'], df_100['surplus'], ':')\n",
    "            plt.fill_between(shocks, \n",
    "                            df_100['surplus'], \n",
    "                            df_pct['surplus'], alpha=0.4,label=f\"{PCT*100}% confidence\")\n",
    "            \"\"\"\n",
    "            zero_pct = df_pct[df_pct['surplus'] > 0].sort_values('surplus')\n",
    "\n",
    "            zero_debt_pct = zero_pct.iloc[0]['shock']\n",
    "            print(f\"{lr}, {initial_surplus}, {PCT}, {zero_debt_pct:.3f}\")\n",
    "        \n",
    "        \"\"\"\n",
    "        plt.title(f'Stochastic c-ratios: {lr=}, {initial_surplus=}\\n {N_RUNS=}', fontsize=14)\n",
    "        plt.xlabel('ETH/USD Shock (0.5 = 50% drop)', fontsize=16)\n",
    "        plt.ylabel('Debt', fontsize=16)\n",
    "        plt.grid(True)\n",
    "        plt.legend()\n",
    "        plt.show()\n",
    "        \"\"\"\n",
    "print(f\"{time.time() - start}\")"
   ]
  },
  {
   "cell_type": "markdown",
   "id": "635ac53f-7f8f-4aa1-bb6f-cae5be6356bf",
   "metadata": {},
   "source": [
    "# Sim #2: Stochastic SAFE collateral amounts and stochastic c-ratios"
   ]
  },
  {
   "cell_type": "markdown",
   "id": "511d686f-1d58-4a52-b889-907990c94cee",
   "metadata": {},
   "source": [
    "### Fit many distributions to mainnnet collateral amounts"
   ]
  },
  {
   "cell_type": "code",
   "execution_count": null,
   "id": "74128a7f-e414-46bf-95d5-f685b9503880",
   "metadata": {},
   "outputs": [],
   "source": [
    "fitter_coll = Fitter(np.log(orig_safes['collateral'].values))        \n",
    "fitter_coll.fit()\n",
    "fitter_coll.summary()"
   ]
  },
  {
   "cell_type": "markdown",
   "id": "89404951-f281-4169-ac0c-b617c174ba95",
   "metadata": {},
   "source": [
    "### Pick the best distribution and generate some collateral amounts"
   ]
  },
  {
   "cell_type": "code",
   "execution_count": null,
   "id": "14d50bfa-f6dc-4dd7-af14-49eebd5c3d65",
   "metadata": {},
   "outputs": [],
   "source": [
    "#best_coll = fitter_coll.get_best(method = 'sumsquare_error')\n",
    "coll_params = fitter_coll.fitted_param[\"skewcauchy\"]"
   ]
  },
  {
   "cell_type": "code",
   "execution_count": null,
   "id": "a61e7219-2562-4791-8d20-4f07e47d8d00",
   "metadata": {},
   "outputs": [],
   "source": [
    "colls_r = ss.skewcauchy.rvs(*coll_params, size=len(orig_safes)*2)\n",
    "\n",
    "colls_r = np.exp(colls_r)\n",
    "\n",
    "# Collateral\n",
    "\n",
    "df = pd.DataFrame(colls_r, columns=['collateral'])\n",
    "df = df[(df['collateral'] > 0) & (df['collateral'] < orig_safes['collateral'].max()) & (tmp_safes['cratio'] > MAINNET_LIQ_RATIO)]\n",
    "df = df.head(len(orig_safes))\n",
    "\n",
    "\n",
    "#df['collateral'] *= orig_safes['collateral'].sum() / df['collateral'].sum()\n",
    "df['collateral'].hist(bins=100, alpha=0.5, color='red', label='generated')\n",
    "\n",
    "orig_safes['collateral'].hist(bins=100, color='blue', alpha=0.5, label='original')\n",
    "#plt.xlim([0, 1000])\n",
    "plt.title('SAFE Collateral', fontsize=18)\n",
    "plt.xlabel('Collateral', fontsize=16)\n",
    "plt.ylabel('Number of SAFEs', fontsize=16)\n",
    "plt.legend()\n",
    "plt.grid(False)\n",
    "plt.show()\n"
   ]
  },
  {
   "cell_type": "markdown",
   "id": "9cb58a01-d930-4b36-963e-f911538d3bc3",
   "metadata": {},
   "source": [
    "# Run Sim #2"
   ]
  },
  {
   "cell_type": "code",
   "execution_count": null,
   "id": "b9b33ac9-b9c9-4d98-bea9-34c790aeb46d",
   "metadata": {},
   "outputs": [],
   "source": [
    "all_shocks = []\n",
    "all_surplus = []\n",
    "\n",
    "min_shock = 0.00\n",
    "max_shock = 0.6\n",
    "shocks = np.linspace(min_shock, max_shock, 100)\n",
    "\n",
    "for lr in LRS:\n",
    "    for initial_surplus in [INITIAL_SURPLUS, 1E6]:\n",
    "        for i in range(N_RUNS):\n",
    "            cratios = ss.mielke.rvs(*cratio_params, size=len(orig_safes)*2)\n",
    "            #cratios = cratios[cratios > MAINNET_LIQ_RATIO]\n",
    "\n",
    "            collaterals = ss.skewcauchy.rvs(*coll_params, size=len(orig_safes)*2)\n",
    "            collaterals = np.exp(collaterals)\n",
    "\n",
    "\n",
    "            tmp_safes = pd.DataFrame({'collateral': collaterals, 'cratio': cratios}) \n",
    "            tmp_safes = tmp_safes[(tmp_safes['collateral'] > 0) & (tmp_safes['collateral'] < orig_safes['collateral'].max()) & (tmp_safes['cratio'] > MAINNET_LIQ_RATIO)]\n",
    "            tmp_safes = tmp_safes.head(len(orig_safes))\n",
    "\n",
    "            assert len(tmp_safes) == len(orig_safes)\n",
    "            # match sum of collateral to mainnet sum\n",
    "            #tmp_safes['collateral'] *= orig_safes['collateral'].sum() / tmp_safes['collateral'].sum()\n",
    "\n",
    "            tmp_safes['debt'] = tmp_safes['collateral'] * ETH_USD / REDEMPTION_PRICE / tmp_safes['cratio']\n",
    "            \n",
    "            # Consider debt ceiling, adding more possible debt           \n",
    "            added_debt = 0\n",
    "            while added_debt < extra_debt:\n",
    "                # Sample c-ratios and collateral amounts\n",
    "                new_cr = ss.mielke.rvs(*cratio_params, size=1)[0]\n",
    "                while new_cr < MAINNET_LIQ_RATIO: \n",
    "                    new_cr = ss.mielke.rvs(*cratio_params, size=1)[0]\n",
    "                    \n",
    "                new_coll = np.exp(ss.skewcauchy.rvs(*coll_params, size=1))[0]\n",
    "                 \n",
    "                # calculate debt\n",
    "                new_debt = min(new_coll * ETH_USD / REDEMPTION_PRICE / new_cr, extra_debt - added_debt)\n",
    "                added_debt += new_debt\n",
    "                \n",
    "                # Add new SAFE\n",
    "                tmp_safes = tmp_safes.append({'cratio': new_cr, 'collateral': new_coll, 'debt': new_debt}, ignore_index=True)\n",
    "                \n",
    "            assert added_debt == extra_debt\n",
    "                     \n",
    "            lr_shocks = []\n",
    "            lr_surpluses = []\n",
    "            for s in shocks:\n",
    "                surplus = run(tmp_safes, lr, s, initial_surplus)\n",
    "                lr_shocks.append(s)\n",
    "                lr_surpluses.append(surplus)\n",
    "                all_shocks.append(s)\n",
    "                all_surplus.append(surplus)\n",
    "                   \n",
    "            #plt.plot(shocks, results, alpha=0.1)\n",
    "\n",
    "        # plot mean\n",
    "        df = pd.DataFrame({'shock': all_shocks,  'surplus': all_surplus})\n",
    "        df_mean = df.groupby('shock').mean().reset_index()\n",
    "        #plt.plot(df_mean['shock'], df_mean['surplus'])\n",
    "\n",
    "        for PCT in PCTS:\n",
    "            df_pct = df.groupby('shock').quantile(1. - PCT).reset_index()\n",
    "            df_100 = df.groupby('shock').quantile(1.0).reset_index()\n",
    "            \n",
    "            \"\"\"\n",
    "            plt.plot(df_pct['shock'], df_pct['surplus'], ':')\n",
    "            plt.plot(df_100['shock'], df_100['surplus'], ':')\n",
    "            plt.fill_between(shocks, \n",
    "                            df_100['surplus'], \n",
    "                            df_pct['surplus'], alpha=0.4,label=f\"{PCT*100}% confidence\")\n",
    "            \"\"\"\n",
    "            zero_pct = df_pct[df_pct['surplus'] > 0].sort_values('surplus')\n",
    "\n",
    "            zero_debt_pct = zero_pct.iloc[0]['shock']\n",
    "            print(f\"{lr}, {initial_surplus}, {PCT}, {zero_debt_pct:.3f}\")\n",
    "        \n",
    "        \"\"\"\n",
    "        plt.title(f'Stochastic collateral amounts and c-ratios: {lr=}, {initial_surplus=}\\n {N_RUNS=}', fontsize=14)\n",
    "        plt.xlabel('ETH/USD Shock (0.5 = 50% drop)', fontsize=16)\n",
    "        plt.ylabel('Debt', fontsize=16)\n",
    "        plt.grid(True)\n",
    "        plt.legend()\n",
    "        plt.show()\n",
    "        \"\"\""
   ]
  },
  {
   "cell_type": "markdown",
   "id": "a722da62-8970-4d6f-a429-b51bcfb76346",
   "metadata": {},
   "source": [
    "# Sim #3: Gaussian Mixture Model for SAFE collateral amounts and c-ratios"
   ]
  },
  {
   "cell_type": "code",
   "execution_count": null,
   "id": "76f8b9d0-c700-4e45-895e-4a5d5014aa7f",
   "metadata": {},
   "outputs": [],
   "source": [
    "import numpy as np\n",
    "import matplotlib.pyplot as plt\n",
    "from matplotlib.colors import LogNorm\n",
    "from sklearn import mixture\n",
    "\n",
    "# Create a Gaussian Mixture Model with one component\n",
    "clf = mixture.GaussianMixture(n_components=1, covariance_type='full')\n",
    "\n",
    "safes = orig_safes.copy()\n",
    "\n",
    "# Transform collateral to make it normal\n",
    "#pt = PowerTransformer()\n",
    "#safes['collateral'] = pt.fit_transform(safes['collateral'].values.reshape(-1,1))\n",
    "safes['collateral'] = np.log(safes['collateral'])\n",
    "\n",
    "\"\"\"\n",
    "safes['collateral'].hist(bins=100, color='blue', alpha=0.5, label='original')\n",
    "plt.title('Transformed collateral')\n",
    "plt.legend()\n",
    "plt.grid(False)\n",
    "plt.show()\n",
    "\"\"\"\n",
    "\n",
    "# Fit\n",
    "clf.fit(safes[['collateral', 'cratio']])\n",
    "\n",
    "# display predicted scores by the model as a contour plot\n",
    "x = np.linspace(0, 50.)\n",
    "y = np.linspace(0, 20.)\n",
    "X, Y = np.meshgrid(x, y)\n",
    "XX = np.array([X.ravel(), Y.ravel()]).T\n",
    "Z = -clf.score_samples(XX)\n",
    "Z = Z.reshape(X.shape)\n",
    "\n",
    "CS = plt.contour(X, Y, Z, norm=LogNorm(vmin=1.0, vmax=1000.0),\n",
    "                 levels=np.logspace(0, 3, 10))\n",
    "CB = plt.colorbar(CS, shrink=0.8, extend='both')\n",
    "\n",
    "plt.scatter(safes['collateral'], safes['cratio'], .8, color='blue')\n",
    "\n",
    "#plt.title('Negative log-likelihood predicted by a GMM')\n",
    "plt.axis('tight')\n",
    "plt.xlabel('Log Collateral', fontsize=16)\n",
    "plt.ylabel('C-ratio', fontsize=16)\n",
    "plt.show()\n"
   ]
  },
  {
   "cell_type": "code",
   "execution_count": null,
   "id": "c93f4acf-b80b-496c-a5cc-91253898aba3",
   "metadata": {},
   "outputs": [],
   "source": [
    "# C-ratios\n",
    "sample = np.random.multivariate_normal(clf.means_[0], clf.covariances_[0], len(orig_safes)*2)\n",
    "df = pd.DataFrame(sample, columns=['collateral', 'cratio'])\n",
    "df = df[df['cratio'] > MAINNET_LIQ_RATIO]\n",
    "\n",
    "df['cratio'].hist(bins=100, alpha=0.5, color='red', label='generated')\n",
    "\n",
    "orig_safes['cratio'].hist(bins=100, color='blue', alpha=0.5, label='original')\n",
    "\n",
    "plt.title('SAFE C-ratios', fontsize=18)\n",
    "plt.xlabel('C-ratio', fontsize=16)\n",
    "plt.ylabel('Number of SAFEs', fontsize=16)\n",
    "plt.legend()\n",
    "plt.grid(False)\n",
    "plt.show()\n",
    "\n",
    "# Collateral\n",
    "sample = np.random.multivariate_normal(clf.means_[0], clf.covariances_[0], len(orig_safes)*2)\n",
    "df = pd.DataFrame(sample, columns=['collateral', 'cratio'])\n",
    "df = df[df['cratio'] > MAINNET_LIQ_RATIO]\n",
    "df = df.head(len(orig_safes))\n",
    "\n",
    "df['collateral'] = np.exp(df['collateral'])\n",
    "\n",
    "#df['collateral'] = pt.inverse_transform(df['collateral'].values.reshape(-1,1))\n",
    "\n",
    "df['collateral'] *= orig_safes['collateral'].sum() / df['collateral'].sum()\n",
    "df['collateral'].hist(bins=1000, alpha=0.5, color='red', label='generated')\n",
    "\n",
    "orig_safes['collateral'].hist(bins=1000, color='blue', alpha=0.5, label='original')\n",
    "plt.xlim([0, 1000])\n",
    "plt.title('SAFE Collateral', fontsize=18)\n",
    "plt.xlabel('Collateral', fontsize=16)\n",
    "plt.ylabel('Number of SAFEs', fontsize=16)\n",
    "plt.legend()\n",
    "plt.grid(False)\n",
    "plt.show()"
   ]
  },
  {
   "cell_type": "markdown",
   "id": "8654a666-723d-4244-9933-da796dd8f920",
   "metadata": {},
   "source": [
    "# Run Sim #3"
   ]
  },
  {
   "cell_type": "code",
   "execution_count": null,
   "id": "110d8659-9c1b-4657-9409-16c01389f4eb",
   "metadata": {},
   "outputs": [],
   "source": [
    "all_shocks = []\n",
    "all_surplus = []\n",
    "\n",
    "min_shock = 0.00\n",
    "max_shock = 0.6\n",
    "shocks = np.linspace(min_shock, max_shock, 100)\n",
    "for lr in LRS:\n",
    "    for initial_surplus in [INITIAL_SURPLUS, 1E6]:\n",
    "        for i in range(N_RUNS):\n",
    "            gaussian_safes = np.random.multivariate_normal(clf.means_[0], clf.covariances_[0], len(orig_safes)*2)\n",
    "\n",
    "            tmp_safes = pd.DataFrame(gaussian_safes, columns=['collateral', 'cratio'])\n",
    "\n",
    "            tmp_safes['collateral'] = np.exp(tmp_safes['collateral'])\n",
    "            #tmp_safes['collateral'] = pt.inverse_transform(tmp_safes['collateral'].values.reshape(-1,1))\n",
    "\n",
    "            tmp_safes = tmp_safes[(tmp_safes['collateral'] > 0) & (tmp_safes['cratio'] > MAINNET_LIQ_RATIO)]\n",
    "            tmp_safes = tmp_safes.head(len(orig_safes))\n",
    "\n",
    "            # match sum of collateral to mainnet sum\n",
    "            #tmp_safes['collateral'] *= orig_safes['collateral'].sum() / tmp_safes['collateral'].sum()\n",
    "\n",
    "            tmp_safes['debt'] = tmp_safes['collateral'] * ETH_USD / REDEMPTION_PRICE / tmp_safes['cratio']\n",
    "            \n",
    "            # Consider debt ceiling, adding more possible debt\n",
    "            # Sample SAFEs\n",
    "            gaussian_safes = np.random.multivariate_normal(clf.means_[0], clf.covariances_[0], 1000)\n",
    "            new_safes = pd.DataFrame(gaussian_safes, columns=['collateral', 'cratio'])\n",
    "            new_safes['collateral'] = np.exp(new_safes['collateral'])\n",
    "            \n",
    "            # Filter out acceptable samples\n",
    "            new_safes = new_safes[(new_safes['collateral'] > 0) & (new_safes['cratio'] > MAINNET_LIQ_RATIO)]\n",
    "\n",
    "            # Calculate debt\n",
    "            new_safes['debt'] = new_safes['collateral'] * ETH_USD / REDEMPTION_PRICE / new_safes['cratio'] \n",
    "            \n",
    "            # Only use enough SAFEs to fill `extra_debt`\n",
    "            new_safes['total_debt'] = new_safes['debt'].cumsum()        \n",
    "            final_safes = new_safes[new_safes['total_debt'] <= extra_debt]\n",
    " \n",
    "            final_safes.drop('total_debt', axis='columns')\n",
    "            tmp_safes = pd.concat([tmp_safes, final_safes])   \n",
    "\n",
    "            \n",
    "            lr_shocks = []\n",
    "            lr_surpluses = []\n",
    "            for s in shocks:\n",
    "                surplus = run(tmp_safes, lr, s, initial_surplus)\n",
    "                if s == 0.0 and surplus < 0:\n",
    "                    print(\"negative surplus at zero shock\")\n",
    "                    tmp_safes.to_csv('tmp_safes.csv')\n",
    "                lr_shocks.append(s)\n",
    "                lr_surpluses.append(surplus)\n",
    "                all_shocks.append(s)\n",
    "                all_surplus.append(surplus)\n",
    "            \n",
    "            #plt.plot(shocks, results, alpha=0.1)\n",
    "\n",
    "        # plot mean\n",
    "        df = pd.DataFrame({'shock': all_shocks,  'surplus': all_surplus})\n",
    "        df_mean = df.groupby('shock').mean().reset_index()\n",
    "        #plt.plot(df_mean['shock'], df_mean['surplus'])\n",
    "\n",
    "        for PCT in PCTS:\n",
    "            df_pct = df.groupby('shock').quantile(1.-PCT).reset_index()\n",
    "            df_100 = df.groupby('shock').quantile(1.0).reset_index()\n",
    "            \"\"\"\n",
    "            plt.plot(df_pct['shock'], df_pct['surplus'], ':')\n",
    "            plt.plot(df_100['shock'], df_100['surplus'], ':')\n",
    "            plt.fill_between(shocks, \n",
    "                            df_100['surplus'], \n",
    "                            df_pct['surplus'], alpha=0.4,label=f\"{PCT*100}% confidence\")\n",
    "            \"\"\"\n",
    "            zero_pct = df_pct[df_pct['surplus'] > 0].sort_values('surplus')\n",
    "\n",
    "            zero_debt_pct = zero_pct.iloc[0]['shock']\n",
    "            print(f\"{lr}, {initial_surplus}, {PCT}, {zero_debt_pct:.3f}\")\n",
    "        \n",
    "        \"\"\"\n",
    "        plt.title(f'GMM collateral amounts and c-ratios: {lr=}, {initial_surplus=}\\n {N_RUNS=}', fontsize=14)\n",
    "        plt.xlabel('ETH/USD Shock (0.5 = 50% drop)', fontsize=16)\n",
    "        plt.ylabel('Debt', fontsize=16)\n",
    "        plt.grid(True)\n",
    "        plt.legend()\n",
    "        plt.ylim([-1E7,2E6])\n",
    "        plt.show()\n",
    "        \"\"\""
   ]
  },
  {
   "cell_type": "markdown",
   "id": "71915b2f-b5eb-46cd-a955-5884c11cbca1",
   "metadata": {},
   "source": [
    "# Results: Shocks where upper 95th percentile of surplus is greater than 0"
   ]
  },
  {
   "cell_type": "markdown",
   "id": "3779bf3c-3253-478f-a571-021e6783f185",
   "metadata": {},
   "source": [
    "\n",
    "| Liquidation Ratio| Initial Surplus |    Sim #1   |     Sim #2   |    Sim #3   |\n",
    "| ---------------- | --------------- |-------------|--------------|-------------|\n",
    "| 1.20             | INITIAL_SURPLUS |    0.363    |     0.322    |     0.317   |\n",
    "| 1.20             | 1E6             |    0.373    |     0.332    |     0.337   |\n",
    "| 1.25             | INITIAL_SURPLUS |    0.378    |     0.337    |     0.337   |\n",
    "| 1.25             | 1E6             |    0.388    |     0.342    |     0.353   |\n",
    "| 1.30             | INITIAL_SURPLUS |    0.408    |     0.353    |     0.368   |\n",
    "| 1.30             | 1E6             |    0.418    |     0.358    |     0.493   |\n",
    "| 1.35             | INITIAL_SURPLUS |    0.413    |     0.358    |     0.418   |\n",
    "| 1.35             | 1E6             |    0.428    |     0.363    |     0.433   |\n",
    "| 1.40             | INITIAL_SURPLUS |    0.428    |     0.368    |     0.433   |\n",
    "| 1.40             | 1E6             |    0.438    |     0.373    |     0.438   |"
   ]
  },
  {
   "cell_type": "code",
   "execution_count": null,
   "id": "e3f5982e-661b-4e7e-8c17-b06716745a88",
   "metadata": {},
   "outputs": [],
   "source": []
  }
 ],
 "metadata": {
  "kernelspec": {
   "display_name": "geb-data-science",
   "language": "python",
   "name": "geb-data-science"
  },
  "language_info": {
   "codemirror_mode": {
    "name": "ipython",
    "version": 3
   },
   "file_extension": ".py",
   "mimetype": "text/x-python",
   "name": "python",
   "nbconvert_exporter": "python",
   "pygments_lexer": "ipython3",
   "version": "3.9.6"
  }
 },
 "nbformat": 4,
 "nbformat_minor": 5
}
