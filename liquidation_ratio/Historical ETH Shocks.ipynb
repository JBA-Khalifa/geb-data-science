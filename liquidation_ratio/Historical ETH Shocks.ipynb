{
 "cells": [
  {
   "cell_type": "markdown",
   "id": "7ef1ebea-d8b4-4999-bf8c-12a3a34ee8fe",
   "metadata": {},
   "source": [
    "# Historical ETH Shocks\n",
    "\n",
    "## Purpose\n",
    "\n",
    "Examine historical ETH/USD shocks from Binance and MKR OSM data"
   ]
  },
  {
   "cell_type": "code",
   "execution_count": 1,
   "id": "975d1962-20df-4fc3-acfa-1f1b5ae1eb8e",
   "metadata": {},
   "outputs": [],
   "source": [
    "import numpy as np\n",
    "import pandas as pd"
   ]
  },
  {
   "cell_type": "markdown",
   "id": "c4de9ee4-7314-48a4-80d9-680827ae4173",
   "metadata": {},
   "source": [
    "# Historical ETH Shocks\n",
    "\n",
    "First, let's explore the size of historical ETH/USD shocks in the Maker oracle and also in Binance ETH/USDT data."
   ]
  },
  {
   "cell_type": "markdown",
   "id": "696de926-a9db-4fa6-b49c-f1abb492d3b1",
   "metadata": {},
   "source": [
    "## Historical Hourly MKR OSM shocks from 2020-08-06 to 2021-09-07"
   ]
  },
  {
   "cell_type": "code",
   "execution_count": 2,
   "id": "4f950a79-7045-4d65-9506-6e2de06e97a6",
   "metadata": {},
   "outputs": [],
   "source": [
    "df = pd.read_csv('mkr_osm_int.csv')\n",
    "df['price'] = df['price'].astype(float)/10E17\n",
    "\n",
    "# order by time\n",
    "df = df.sort_values('ts')\n",
    "\n",
    "# pct change from previous ts\n",
    "df['pct_change'] = df['price'].pct_change()"
   ]
  },
  {
   "cell_type": "markdown",
   "id": "6cb28ed5-2b12-465d-8bdd-30db0ab355a8",
   "metadata": {},
   "source": [
    "### Largest hourly pct drops "
   ]
  },
  {
   "cell_type": "code",
   "execution_count": 3,
   "id": "b98641e8-2aa9-445e-ae2c-f34c6434378e",
   "metadata": {},
   "outputs": [
    {
     "data": {
      "text/html": [
       "<div>\n",
       "<style scoped>\n",
       "    .dataframe tbody tr th:only-of-type {\n",
       "        vertical-align: middle;\n",
       "    }\n",
       "\n",
       "    .dataframe tbody tr th {\n",
       "        vertical-align: top;\n",
       "    }\n",
       "\n",
       "    .dataframe thead th {\n",
       "        text-align: right;\n",
       "    }\n",
       "</style>\n",
       "<table border=\"1\" class=\"dataframe\">\n",
       "  <thead>\n",
       "    <tr style=\"text-align: right;\">\n",
       "      <th></th>\n",
       "      <th>block</th>\n",
       "      <th>ts</th>\n",
       "      <th>price</th>\n",
       "      <th>pct_change</th>\n",
       "    </tr>\n",
       "  </thead>\n",
       "  <tbody>\n",
       "    <tr>\n",
       "      <th>2464</th>\n",
       "      <td>12422932</td>\n",
       "      <td>2021-05-13 01:02:06 UTC</td>\n",
       "      <td>3831.000000</td>\n",
       "      <td>-0.095507</td>\n",
       "    </tr>\n",
       "    <tr>\n",
       "      <th>2279</th>\n",
       "      <td>12472770</td>\n",
       "      <td>2021-05-20 18:05:07 UTC</td>\n",
       "      <td>2687.000000</td>\n",
       "      <td>-0.083279</td>\n",
       "    </tr>\n",
       "    <tr>\n",
       "      <th>2211</th>\n",
       "      <td>12490963</td>\n",
       "      <td>2021-05-23 14:01:18 UTC</td>\n",
       "      <td>1930.231566</td>\n",
       "      <td>-0.083112</td>\n",
       "    </tr>\n",
       "    <tr>\n",
       "      <th>4350</th>\n",
       "      <td>11912604</td>\n",
       "      <td>2021-02-23 10:00:00 UTC</td>\n",
       "      <td>1470.200000</td>\n",
       "      <td>-0.080550</td>\n",
       "    </tr>\n",
       "    <tr>\n",
       "      <th>2306</th>\n",
       "      <td>12465534</td>\n",
       "      <td>2021-05-19 15:05:05 UTC</td>\n",
       "      <td>2440.160000</td>\n",
       "      <td>-0.071116</td>\n",
       "    </tr>\n",
       "  </tbody>\n",
       "</table>\n",
       "</div>"
      ],
      "text/plain": [
       "         block                       ts        price  pct_change\n",
       "2464  12422932  2021-05-13 01:02:06 UTC  3831.000000   -0.095507\n",
       "2279  12472770  2021-05-20 18:05:07 UTC  2687.000000   -0.083279\n",
       "2211  12490963  2021-05-23 14:01:18 UTC  1930.231566   -0.083112\n",
       "4350  11912604  2021-02-23 10:00:00 UTC  1470.200000   -0.080550\n",
       "2306  12465534  2021-05-19 15:05:05 UTC  2440.160000   -0.071116"
      ]
     },
     "execution_count": 3,
     "metadata": {},
     "output_type": "execute_result"
    }
   ],
   "source": [
    "# show largest pct drops\n",
    "df.sort_values('pct_change').head(5)"
   ]
  },
  {
   "cell_type": "markdown",
   "id": "751ae965-3b46-4099-90ef-0886849ce73b",
   "metadata": {},
   "source": [
    "### Quantiles"
   ]
  },
  {
   "cell_type": "code",
   "execution_count": 4,
   "id": "cd3c6c41-cc47-4a1c-b38e-28cdb3dfdbd9",
   "metadata": {},
   "outputs": [
    {
     "data": {
      "text/plain": [
       "(-0.034568015169454853, -0.0597010511121509, -0.08430029098011962)"
      ]
     },
     "execution_count": 4,
     "metadata": {},
     "output_type": "execute_result"
    }
   ],
   "source": [
    "df['pct_change'].quantile(0.01), df['pct_change'].quantile(0.001), df['pct_change'].quantile(0.0001)"
   ]
  },
  {
   "cell_type": "markdown",
   "id": "fef88467-2e9e-4190-8342-8cd63f8961d3",
   "metadata": {},
   "source": [
    "## Historical Hourly Binance ETH/USDT Shocks from 2017-08-17 to 2021-09-07"
   ]
  },
  {
   "cell_type": "code",
   "execution_count": 5,
   "id": "eeb52252-bfae-41aa-8007-5af2054549c2",
   "metadata": {},
   "outputs": [
    {
     "name": "stdout",
     "output_type": "stream",
     "text": [
      "Number of hourly ticks 38194\n"
     ]
    }
   ],
   "source": [
    "df = pd.read_csv('Binance_ETHUSDT_1h.csv')\n",
    "df['range'] = df['high'] - df['low']\n",
    "df['pct_change'] = (df['low']/df['high']) - 1\n",
    "print(f\"Number of hourly ticks {len(df)}\")"
   ]
  },
  {
   "cell_type": "markdown",
   "id": "6c3b20f0-b640-4082-b68a-5b6aa0b7aa73",
   "metadata": {},
   "source": [
    "### Largest hourly pct drops in ETH/USDT"
   ]
  },
  {
   "cell_type": "code",
   "execution_count": 6,
   "id": "c634356b-5708-4d55-8ba7-c10a5161ca85",
   "metadata": {},
   "outputs": [
    {
     "data": {
      "text/html": [
       "<div>\n",
       "<style scoped>\n",
       "    .dataframe tbody tr th:only-of-type {\n",
       "        vertical-align: middle;\n",
       "    }\n",
       "\n",
       "    .dataframe tbody tr th {\n",
       "        vertical-align: top;\n",
       "    }\n",
       "\n",
       "    .dataframe thead th {\n",
       "        text-align: right;\n",
       "    }\n",
       "</style>\n",
       "<table border=\"1\" class=\"dataframe\">\n",
       "  <thead>\n",
       "    <tr style=\"text-align: right;\">\n",
       "      <th></th>\n",
       "      <th>date</th>\n",
       "      <th>close</th>\n",
       "      <th>Volume ETH</th>\n",
       "      <th>pct_change</th>\n",
       "    </tr>\n",
       "  </thead>\n",
       "  <tbody>\n",
       "    <tr>\n",
       "      <th>38193</th>\n",
       "      <td>2017-08-17 04-AM</td>\n",
       "      <td>300.79</td>\n",
       "      <td>122.52000</td>\n",
       "      <td>-0.543463</td>\n",
       "    </tr>\n",
       "    <tr>\n",
       "      <th>38073</th>\n",
       "      <td>2017-08-22 04-AM</td>\n",
       "      <td>287.00</td>\n",
       "      <td>145.21000</td>\n",
       "      <td>-0.533346</td>\n",
       "    </tr>\n",
       "    <tr>\n",
       "      <th>2648</th>\n",
       "      <td>2021-05-19 12:00:00</td>\n",
       "      <td>2365.18</td>\n",
       "      <td>437462.36681</td>\n",
       "      <td>-0.293317</td>\n",
       "    </tr>\n",
       "    <tr>\n",
       "      <th>15663</th>\n",
       "      <td>2020-03-13 02-AM</td>\n",
       "      <td>111.12</td>\n",
       "      <td>463034.33000</td>\n",
       "      <td>-0.284526</td>\n",
       "    </tr>\n",
       "    <tr>\n",
       "      <th>2647</th>\n",
       "      <td>2021-05-19 13:00:00</td>\n",
       "      <td>2493.69</td>\n",
       "      <td>493227.88282</td>\n",
       "      <td>-0.273567</td>\n",
       "    </tr>\n",
       "  </tbody>\n",
       "</table>\n",
       "</div>"
      ],
      "text/plain": [
       "                      date    close    Volume ETH  pct_change\n",
       "38193     2017-08-17 04-AM   300.79     122.52000   -0.543463\n",
       "38073     2017-08-22 04-AM   287.00     145.21000   -0.533346\n",
       "2648   2021-05-19 12:00:00  2365.18  437462.36681   -0.293317\n",
       "15663     2020-03-13 02-AM   111.12  463034.33000   -0.284526\n",
       "2647   2021-05-19 13:00:00  2493.69  493227.88282   -0.273567"
      ]
     },
     "execution_count": 6,
     "metadata": {},
     "output_type": "execute_result"
    }
   ],
   "source": [
    "df.sort_values('pct_change', ascending=True)[['date', 'close', 'Volume ETH', 'pct_change']].head(5)"
   ]
  },
  {
   "cell_type": "markdown",
   "id": "ab6aa549-7ed6-4a94-af21-395b1043037b",
   "metadata": {},
   "source": [
    "### Quantiles"
   ]
  },
  {
   "cell_type": "code",
   "execution_count": 7,
   "id": "f715e887-49f4-45a0-8e1e-4ee2a2a2ecd6",
   "metadata": {},
   "outputs": [
    {
     "data": {
      "text/plain": [
       "(-0.0650481169905298, -0.13570589329157023, -0.2755470538713533)"
      ]
     },
     "execution_count": 7,
     "metadata": {},
     "output_type": "execute_result"
    }
   ],
   "source": [
    "df['pct_change'].quantile(0.01),  df['pct_change'].quantile(0.001), df['pct_change'].quantile(0.0001)\n"
   ]
  },
  {
   "cell_type": "markdown",
   "id": "af5dbb73-f638-430b-a3ed-1b86a99c3355",
   "metadata": {},
   "source": [
    "# Historical 4-Hour MKR OSM shocks from 2020-08-06 to 2021-09-07\n",
    "\n",
    "The Maker ETH/USD oracle is updated every hour, but the Reflexer oracle is updated every 4 hours. So lets consider what the largest 4-hour percent drop in the Maker oracle data."
   ]
  },
  {
   "cell_type": "code",
   "execution_count": 8,
   "id": "f89c2fa2-83ed-43cc-a05f-f1cb80bbd3c6",
   "metadata": {},
   "outputs": [],
   "source": [
    "df_mkr = pd.read_csv('mkr_osm_int.csv')\n",
    "df_mkr['price'] = df_mkr['price'].astype(float)/10E17\n",
    "\n",
    "# order by time\n",
    "df_mkr = df_mkr.sort_values('ts')\n",
    "\n",
    "# pct change from previous ts\n",
    "df_mkr['pct_change'] = df_mkr['price'].pct_change(4)"
   ]
  },
  {
   "cell_type": "markdown",
   "id": "d7d4e62e-84a1-4f42-aed3-5139145c7228",
   "metadata": {},
   "source": [
    "### Largest 4-hour pct drops "
   ]
  },
  {
   "cell_type": "code",
   "execution_count": 9,
   "id": "452dfd56-3fbe-48e9-a8ad-59cdf61b17d2",
   "metadata": {},
   "outputs": [
    {
     "data": {
      "text/html": [
       "<div>\n",
       "<style scoped>\n",
       "    .dataframe tbody tr th:only-of-type {\n",
       "        vertical-align: middle;\n",
       "    }\n",
       "\n",
       "    .dataframe tbody tr th {\n",
       "        vertical-align: top;\n",
       "    }\n",
       "\n",
       "    .dataframe thead th {\n",
       "        text-align: right;\n",
       "    }\n",
       "</style>\n",
       "<table border=\"1\" class=\"dataframe\">\n",
       "  <thead>\n",
       "    <tr style=\"text-align: right;\">\n",
       "      <th></th>\n",
       "      <th>block</th>\n",
       "      <th>ts</th>\n",
       "      <th>price</th>\n",
       "      <th>pct_change</th>\n",
       "    </tr>\n",
       "  </thead>\n",
       "  <tbody>\n",
       "    <tr>\n",
       "      <th>2306</th>\n",
       "      <td>12465534</td>\n",
       "      <td>2021-05-19 15:05:05 UTC</td>\n",
       "      <td>2440.16</td>\n",
       "      <td>-0.176690</td>\n",
       "    </tr>\n",
       "    <tr>\n",
       "      <th>5548</th>\n",
       "      <td>11587865</td>\n",
       "      <td>2021-01-04 12:01:46 UTC</td>\n",
       "      <td>966.04</td>\n",
       "      <td>-0.132717</td>\n",
       "    </tr>\n",
       "    <tr>\n",
       "      <th>5384</th>\n",
       "      <td>11632391</td>\n",
       "      <td>2021-01-11 08:00:41 UTC</td>\n",
       "      <td>1043.40</td>\n",
       "      <td>-0.124062</td>\n",
       "    </tr>\n",
       "    <tr>\n",
       "      <th>5387</th>\n",
       "      <td>11631584</td>\n",
       "      <td>2021-01-11 05:01:41 UTC</td>\n",
       "      <td>1117.82</td>\n",
       "      <td>-0.121956</td>\n",
       "    </tr>\n",
       "    <tr>\n",
       "      <th>2307</th>\n",
       "      <td>12465262</td>\n",
       "      <td>2021-05-19 14:05:12 UTC</td>\n",
       "      <td>2626.98</td>\n",
       "      <td>-0.114541</td>\n",
       "    </tr>\n",
       "  </tbody>\n",
       "</table>\n",
       "</div>"
      ],
      "text/plain": [
       "         block                       ts    price  pct_change\n",
       "2306  12465534  2021-05-19 15:05:05 UTC  2440.16   -0.176690\n",
       "5548  11587865  2021-01-04 12:01:46 UTC   966.04   -0.132717\n",
       "5384  11632391  2021-01-11 08:00:41 UTC  1043.40   -0.124062\n",
       "5387  11631584  2021-01-11 05:01:41 UTC  1117.82   -0.121956\n",
       "2307  12465262  2021-05-19 14:05:12 UTC  2626.98   -0.114541"
      ]
     },
     "execution_count": 9,
     "metadata": {},
     "output_type": "execute_result"
    }
   ],
   "source": [
    "# show largest pct drops\n",
    "df_mkr.sort_values('pct_change').head(5)"
   ]
  },
  {
   "cell_type": "markdown",
   "id": "06a7dc20-5705-43dc-878f-a0b10297c4da",
   "metadata": {},
   "source": [
    "## Historical 4-Hour Binance ETH/USDT Shocks from 2017-08-17 to 2021-09-07"
   ]
  },
  {
   "cell_type": "code",
   "execution_count": 10,
   "id": "7925d699-df2a-4d25-850c-dd2903839291",
   "metadata": {},
   "outputs": [
    {
     "name": "stdout",
     "output_type": "stream",
     "text": [
      "Number of hourly ticks 38194\n"
     ]
    }
   ],
   "source": [
    "df_bin = pd.read_csv('Binance_ETHUSDT_1h.csv')\n",
    "\n",
    "df_4 = pd.concat([df_bin, df_bin.shift(3)['high'].rename(\"high-4\")], axis=1)\n",
    "\n",
    "\n",
    "df_4['pct_change'] = (df_4['low']/df_4['high-4']) - 1\n",
    "print(f\"Number of hourly ticks {len(df_4)}\")\n"
   ]
  },
  {
   "cell_type": "code",
   "execution_count": 11,
   "id": "0a7e6fe2-ef6d-4322-aa14-05433d2b7581",
   "metadata": {},
   "outputs": [
    {
     "data": {
      "text/html": [
       "<div>\n",
       "<style scoped>\n",
       "    .dataframe tbody tr th:only-of-type {\n",
       "        vertical-align: middle;\n",
       "    }\n",
       "\n",
       "    .dataframe tbody tr th {\n",
       "        vertical-align: top;\n",
       "    }\n",
       "\n",
       "    .dataframe thead th {\n",
       "        text-align: right;\n",
       "    }\n",
       "</style>\n",
       "<table border=\"1\" class=\"dataframe\">\n",
       "  <thead>\n",
       "    <tr style=\"text-align: right;\">\n",
       "      <th></th>\n",
       "      <th>date</th>\n",
       "      <th>close</th>\n",
       "      <th>Volume ETH</th>\n",
       "      <th>pct_change</th>\n",
       "    </tr>\n",
       "  </thead>\n",
       "  <tbody>\n",
       "    <tr>\n",
       "      <th>38073</th>\n",
       "      <td>2017-08-22 04-AM</td>\n",
       "      <td>287.00</td>\n",
       "      <td>145.21000</td>\n",
       "      <td>-0.527753</td>\n",
       "    </tr>\n",
       "    <tr>\n",
       "      <th>2647</th>\n",
       "      <td>2021-05-19 13:00:00</td>\n",
       "      <td>2493.69</td>\n",
       "      <td>493227.88282</td>\n",
       "      <td>-0.347841</td>\n",
       "    </tr>\n",
       "    <tr>\n",
       "      <th>15663</th>\n",
       "      <td>2020-03-13 02-AM</td>\n",
       "      <td>111.12</td>\n",
       "      <td>463034.33000</td>\n",
       "      <td>-0.302627</td>\n",
       "    </tr>\n",
       "    <tr>\n",
       "      <th>2648</th>\n",
       "      <td>2021-05-19 12:00:00</td>\n",
       "      <td>2365.18</td>\n",
       "      <td>437462.36681</td>\n",
       "      <td>-0.294964</td>\n",
       "    </tr>\n",
       "    <tr>\n",
       "      <th>37490</th>\n",
       "      <td>2017-09-15 11-AM</td>\n",
       "      <td>199.28</td>\n",
       "      <td>611.03000</td>\n",
       "      <td>-0.291330</td>\n",
       "    </tr>\n",
       "    <tr>\n",
       "      <th>37489</th>\n",
       "      <td>2017-09-15 12-PM</td>\n",
       "      <td>227.00</td>\n",
       "      <td>995.23000</td>\n",
       "      <td>-0.277444</td>\n",
       "    </tr>\n",
       "    <tr>\n",
       "      <th>15665</th>\n",
       "      <td>2020-03-13 12-AM</td>\n",
       "      <td>106.89</td>\n",
       "      <td>352204.30000</td>\n",
       "      <td>-0.244928</td>\n",
       "    </tr>\n",
       "    <tr>\n",
       "      <th>34531</th>\n",
       "      <td>2018-01-16 10-PM</td>\n",
       "      <td>970.02</td>\n",
       "      <td>41818.22000</td>\n",
       "      <td>-0.242718</td>\n",
       "    </tr>\n",
       "    <tr>\n",
       "      <th>15664</th>\n",
       "      <td>2020-03-13 01-AM</td>\n",
       "      <td>96.62</td>\n",
       "      <td>247820.18000</td>\n",
       "      <td>-0.227302</td>\n",
       "    </tr>\n",
       "    <tr>\n",
       "      <th>34510</th>\n",
       "      <td>2018-01-17 07-PM</td>\n",
       "      <td>905.02</td>\n",
       "      <td>11281.47000</td>\n",
       "      <td>-0.221009</td>\n",
       "    </tr>\n",
       "  </tbody>\n",
       "</table>\n",
       "</div>"
      ],
      "text/plain": [
       "                      date    close    Volume ETH  pct_change\n",
       "38073     2017-08-22 04-AM   287.00     145.21000   -0.527753\n",
       "2647   2021-05-19 13:00:00  2493.69  493227.88282   -0.347841\n",
       "15663     2020-03-13 02-AM   111.12  463034.33000   -0.302627\n",
       "2648   2021-05-19 12:00:00  2365.18  437462.36681   -0.294964\n",
       "37490     2017-09-15 11-AM   199.28     611.03000   -0.291330\n",
       "37489     2017-09-15 12-PM   227.00     995.23000   -0.277444\n",
       "15665     2020-03-13 12-AM   106.89  352204.30000   -0.244928\n",
       "34531     2018-01-16 10-PM   970.02   41818.22000   -0.242718\n",
       "15664     2020-03-13 01-AM    96.62  247820.18000   -0.227302\n",
       "34510     2018-01-17 07-PM   905.02   11281.47000   -0.221009"
      ]
     },
     "execution_count": 11,
     "metadata": {},
     "output_type": "execute_result"
    }
   ],
   "source": [
    "df_4.sort_values('pct_change', ascending=True)[['date', 'close', 'Volume ETH', 'pct_change']].head(10)"
   ]
  },
  {
   "cell_type": "code",
   "execution_count": 12,
   "id": "8f9180ff-d521-45e8-8e66-3eab35f1de7c",
   "metadata": {},
   "outputs": [
    {
     "data": {
      "text/html": [
       "<div>\n",
       "<style scoped>\n",
       "    .dataframe tbody tr th:only-of-type {\n",
       "        vertical-align: middle;\n",
       "    }\n",
       "\n",
       "    .dataframe tbody tr th {\n",
       "        vertical-align: top;\n",
       "    }\n",
       "\n",
       "    .dataframe thead th {\n",
       "        text-align: right;\n",
       "    }\n",
       "</style>\n",
       "<table border=\"1\" class=\"dataframe\">\n",
       "  <thead>\n",
       "    <tr style=\"text-align: right;\">\n",
       "      <th></th>\n",
       "      <th>date</th>\n",
       "      <th>close</th>\n",
       "      <th>Volume ETH</th>\n",
       "      <th>pct_change</th>\n",
       "    </tr>\n",
       "  </thead>\n",
       "  <tbody>\n",
       "    <tr>\n",
       "      <th>2647</th>\n",
       "      <td>2021-05-19 13:00:00</td>\n",
       "      <td>2493.69</td>\n",
       "      <td>493227.88282</td>\n",
       "      <td>-0.347841</td>\n",
       "    </tr>\n",
       "    <tr>\n",
       "      <th>15663</th>\n",
       "      <td>2020-03-13 02-AM</td>\n",
       "      <td>111.12</td>\n",
       "      <td>463034.33000</td>\n",
       "      <td>-0.302627</td>\n",
       "    </tr>\n",
       "    <tr>\n",
       "      <th>2648</th>\n",
       "      <td>2021-05-19 12:00:00</td>\n",
       "      <td>2365.18</td>\n",
       "      <td>437462.36681</td>\n",
       "      <td>-0.294964</td>\n",
       "    </tr>\n",
       "    <tr>\n",
       "      <th>15665</th>\n",
       "      <td>2020-03-13 12-AM</td>\n",
       "      <td>106.89</td>\n",
       "      <td>352204.30000</td>\n",
       "      <td>-0.244928</td>\n",
       "    </tr>\n",
       "    <tr>\n",
       "      <th>34531</th>\n",
       "      <td>2018-01-16 10-PM</td>\n",
       "      <td>970.02</td>\n",
       "      <td>41818.22000</td>\n",
       "      <td>-0.242718</td>\n",
       "    </tr>\n",
       "    <tr>\n",
       "      <th>15664</th>\n",
       "      <td>2020-03-13 01-AM</td>\n",
       "      <td>96.62</td>\n",
       "      <td>247820.18000</td>\n",
       "      <td>-0.227302</td>\n",
       "    </tr>\n",
       "    <tr>\n",
       "      <th>34510</th>\n",
       "      <td>2018-01-17 07-PM</td>\n",
       "      <td>905.02</td>\n",
       "      <td>11281.47000</td>\n",
       "      <td>-0.221009</td>\n",
       "    </tr>\n",
       "    <tr>\n",
       "      <th>2646</th>\n",
       "      <td>2021-05-19 14:00:00</td>\n",
       "      <td>2612.74</td>\n",
       "      <td>302720.21547</td>\n",
       "      <td>-0.217584</td>\n",
       "    </tr>\n",
       "    <tr>\n",
       "      <th>34511</th>\n",
       "      <td>2018-01-17 06-PM</td>\n",
       "      <td>833.52</td>\n",
       "      <td>8124.23000</td>\n",
       "      <td>-0.206823</td>\n",
       "    </tr>\n",
       "    <tr>\n",
       "      <th>35139</th>\n",
       "      <td>2017-12-22 02-PM</td>\n",
       "      <td>559.91</td>\n",
       "      <td>13976.44000</td>\n",
       "      <td>-0.197154</td>\n",
       "    </tr>\n",
       "  </tbody>\n",
       "</table>\n",
       "</div>"
      ],
      "text/plain": [
       "                      date    close    Volume ETH  pct_change\n",
       "2647   2021-05-19 13:00:00  2493.69  493227.88282   -0.347841\n",
       "15663     2020-03-13 02-AM   111.12  463034.33000   -0.302627\n",
       "2648   2021-05-19 12:00:00  2365.18  437462.36681   -0.294964\n",
       "15665     2020-03-13 12-AM   106.89  352204.30000   -0.244928\n",
       "34531     2018-01-16 10-PM   970.02   41818.22000   -0.242718\n",
       "15664     2020-03-13 01-AM    96.62  247820.18000   -0.227302\n",
       "34510     2018-01-17 07-PM   905.02   11281.47000   -0.221009\n",
       "2646   2021-05-19 14:00:00  2612.74  302720.21547   -0.217584\n",
       "34511     2018-01-17 06-PM   833.52    8124.23000   -0.206823\n",
       "35139     2017-12-22 02-PM   559.91   13976.44000   -0.197154"
      ]
     },
     "execution_count": 12,
     "metadata": {},
     "output_type": "execute_result"
    }
   ],
   "source": [
    "df_filter = df_4[df_4['Volume ETH'] > 1000]\n",
    "df_filter.sort_values('pct_change', ascending=True)[['date', 'close', 'Volume ETH', 'pct_change']].head(10)"
   ]
  },
  {
   "cell_type": "code",
   "execution_count": 13,
   "id": "85099127-2d0f-49e8-81f9-26ce31c21b13",
   "metadata": {},
   "outputs": [],
   "source": [
    "smallest_shock = .10\n",
    "past_shocks = df_filter.query(f'pct_change < -{smallest_shock}')['pct_change']\n",
    "df_filter.to_csv('binance_eth_shocks.csv')"
   ]
  },
  {
   "cell_type": "markdown",
   "id": "3472bc88-5227-4e73-9136-2bc1cdeb3748",
   "metadata": {},
   "source": [
    "### Shocks per year"
   ]
  },
  {
   "cell_type": "code",
   "execution_count": 14,
   "id": "ef79f3e6-dcbc-4b11-a194-e5bcef221de4",
   "metadata": {},
   "outputs": [
    {
     "name": "stdout",
     "output_type": "stream",
     "text": [
      "shock=0.0, 7807.75\n",
      "shock=0.01, 4668.75\n",
      "shock=0.02, 2395.75\n",
      "shock=0.03, 1272.75\n",
      "shock=0.04, 720.5\n",
      "shock=0.05, 431.0\n",
      "shock=0.06, 261.25\n",
      "shock=0.07, 168.0\n",
      "shock=0.08, 108.0\n",
      "shock=0.09, 74.75\n",
      "shock=0.1, 52.5\n",
      "shock=0.11, 35.75\n",
      "shock=0.12, 26.0\n",
      "shock=0.13, 17.0\n",
      "shock=0.14, 13.0\n",
      "shock=0.15, 9.5\n",
      "shock=0.16, 7.5\n",
      "shock=0.17, 6.25\n",
      "shock=0.18, 4.0\n",
      "shock=0.19, 3.0\n",
      "shock=0.2, 2.25\n",
      "shock=0.21, 2.0\n",
      "shock=0.22, 1.75\n",
      "shock=0.23, 1.25\n",
      "shock=0.24, 1.25\n",
      "shock=0.25, 0.75\n",
      "shock=0.26, 0.75\n",
      "shock=0.27, 0.75\n",
      "shock=0.28, 0.75\n",
      "shock=0.29, 0.75\n",
      "shock=0.3, 0.5\n",
      "shock=0.31, 0.25\n",
      "shock=0.32, 0.25\n",
      "shock=0.33, 0.25\n",
      "shock=0.34, 0.25\n",
      "shock=0.35, 0.0\n",
      "shock=0.36, 0.0\n",
      "shock=0.37, 0.0\n",
      "shock=0.38, 0.0\n",
      "shock=0.39, 0.0\n",
      "shock=0.4, 0.0\n",
      "shock=0.41, 0.0\n",
      "shock=0.42, 0.0\n",
      "shock=0.43, 0.0\n",
      "shock=0.44, 0.0\n",
      "shock=0.45, 0.0\n",
      "shock=0.46, 0.0\n",
      "shock=0.47, 0.0\n",
      "shock=0.48, 0.0\n",
      "shock=0.49, 0.0\n",
      "shock=0.5, 0.0\n",
      "shock=0.51, 0.0\n",
      "shock=0.52, 0.0\n",
      "shock=0.53, 0.0\n",
      "shock=0.54, 0.0\n",
      "shock=0.55, 0.0\n",
      "shock=0.56, 0.0\n",
      "shock=0.57, 0.0\n",
      "shock=0.58, 0.0\n",
      "shock=0.59, 0.0\n",
      "shock=0.6, 0.0\n"
     ]
    }
   ],
   "source": [
    "min_shock = 0.00\n",
    "max_shock = 0.6\n",
    "n_shocks = 61\n",
    "SHOCKS = np.round(np.linspace(min_shock, max_shock, n_shocks), 4)\n",
    "for shock in SHOCKS:\n",
    "    print(f\"{shock=}, {len(df_filter.query(f'pct_change <= {-shock}'))/4}\")"
   ]
  },
  {
   "cell_type": "code",
   "execution_count": null,
   "id": "244dc37a-8f78-4cd4-9f87-1567dca1bc78",
   "metadata": {},
   "outputs": [],
   "source": []
  }
 ],
 "metadata": {
  "kernelspec": {
   "display_name": "geb-data-science",
   "language": "python",
   "name": "geb-data-science"
  },
  "language_info": {
   "codemirror_mode": {
    "name": "ipython",
    "version": 3
   },
   "file_extension": ".py",
   "mimetype": "text/x-python",
   "name": "python",
   "nbconvert_exporter": "python",
   "pygments_lexer": "ipython3",
   "version": "3.9.6"
  }
 },
 "nbformat": 4,
 "nbformat_minor": 5
}
