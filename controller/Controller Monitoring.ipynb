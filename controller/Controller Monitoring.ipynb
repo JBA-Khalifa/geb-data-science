{
 "cells": [
  {
   "cell_type": "markdown",
   "id": "d28f8153",
   "metadata": {},
   "source": [
    "# RAI Controller Monitoring"
   ]
  },
  {
   "cell_type": "markdown",
   "id": "bfcf8fcc",
   "metadata": {},
   "source": [
    "Visualize historical and extrapolated controller performance on mainnet"
   ]
  },
  {
   "cell_type": "code",
   "execution_count": 1,
   "id": "de5bf8fd",
   "metadata": {},
   "outputs": [],
   "source": [
    "import os\n",
    "import time\n",
    "import math\n",
    "from decimal import Decimal\n",
    "import pandas as pd\n",
    "import matplotlib.pyplot as plt\n",
    "import matplotlib\n",
    "\n",
    "import numpy as np\n",
    "from sklearn.metrics import mean_squared_error\n",
    "from web3 import Web3, HTTPProvider\n",
    "\n",
    "\n",
    "# import abis\n",
    "from abis.abis import GEB_RRFM_SETTER_ABI, GEB_RRFM_CALCULATOR_ABI\n",
    "\n",
    "# simulation of Rai system\n",
    "from rai import Rai, WAD, RAY\n",
    "\n",
    "size = 15\n",
    "PLT_PARAMS = {'legend.fontsize': 'large',\n",
    "          'figure.figsize': (20,12),\n",
    "          'axes.labelsize': size,\n",
    "          'axes.titlesize': size,\n",
    "          'xtick.labelsize': size*0.75,\n",
    "          'ytick.labelsize': size*0.75,\n",
    "          'axes.titlepad': 25}\n",
    "\n",
    "plt.rcParams.update(PLT_PARAMS)"
   ]
  },
  {
   "cell_type": "markdown",
   "id": "5ef4c1bf",
   "metadata": {},
   "source": [
    "System and RPC Parameters"
   ]
  },
  {
   "cell_type": "code",
   "execution_count": 2,
   "id": "9fe9f69c",
   "metadata": {},
   "outputs": [],
   "source": [
    "# Need an archive node\n",
    "ETH_RPC_URL=os.environ['ETH_RPC_URL']\n",
    "w3 = Web3(Web3.HTTPProvider(ETH_RPC_URL, request_kwargs={\"timeout\": 10}))"
   ]
  },
  {
   "cell_type": "code",
   "execution_count": 3,
   "id": "aa99a137",
   "metadata": {},
   "outputs": [],
   "source": [
    "# Contract addresses\n",
    "\n",
    "# UpdateRedemptionRate events come from the rate setter\n",
    "GEB_RRFM_SETTER=\"0x7Acfc14dBF2decD1c9213Db32AE7784626daEb48\"\n",
    "\n",
    "# Will retrive sg, ag, pscl from rate calc\n",
    "GEB_RRFM_CALCULATOR=\"0xddA334de7A9C57A641616492175ca203Ba8Cf981\"\n",
    "\n",
    "# new scaled controller\n",
    "NEW_GEB_RRFM_CALCULATOR=\"0x5CC4878eA3E6323FdA34b3D28551E1543DEe54C6\"\n",
    "\n",
    "# Contract Instances\n",
    "rate_setter = w3.eth.contract(address=GEB_RRFM_SETTER, abi=GEB_RRFM_SETTER_ABI)\n",
    "RATE_CALC = w3.eth.contract(address=GEB_RRFM_CALCULATOR, abi=GEB_RRFM_CALCULATOR_ABI)\n",
    "NEW_RATE_CALC = w3.eth.contract(address=NEW_GEB_RRFM_CALCULATOR, abi=GEB_RRFM_CALCULATOR_ABI)"
   ]
  },
  {
   "cell_type": "code",
   "execution_count": 4,
   "id": "688b68b2",
   "metadata": {},
   "outputs": [],
   "source": [
    "def gather_data(first_block, last_block):\n",
    "    ''' Collect data from events and function calls '''\n",
    "    new_calc_deploy_block = 15046690\n",
    "    \n",
    "    update_rr_filter = {'fromBlock': first_block, 'toBlock': last_block, 'address': GEB_RRFM_SETTER,\n",
    "                         'topics': ['0x16abce12916e67b821a9cdabe7103d806d6f4280a69d5830925b3e34c83f52a8']}\n",
    "    logs = w3.eth.get_logs(update_rr_filter)\n",
    "\n",
    "    results = []\n",
    "    for log in logs:\n",
    "        event = []\n",
    "        p_log = rate_setter.events.UpdateRedemptionRate().processLog(log)\n",
    "\n",
    "        event.append(p_log['args']['marketPrice'])\n",
    "        event.append(p_log['args']['redemptionPrice'])\n",
    "        event.append(p_log['args']['redemptionRate'])\n",
    "        event.append(p_log['transactionHash'].hex())\n",
    "        event.append(p_log['address'])\n",
    "        event.append(p_log['blockNumber'])\n",
    "        ts = w3.eth.get_block(p_log['blockNumber'])['timestamp']\n",
    "\n",
    "        # Rate calc variables\n",
    "        if p_log['blockNumber'] < new_calc_deploy_block: \n",
    "            current_rate_calc = RATE_CALC\n",
    "        else:\n",
    "            current_rate_calc = NEW_RATE_CALC\n",
    "\n",
    "        prop_term = current_rate_calc.caller(block_identifier=p_log['blockNumber']).getLastProportionalTerm()\n",
    "        integral_term = current_rate_calc.caller(block_identifier=p_log['blockNumber']).getLastIntegralTerm()\n",
    "        sg = current_rate_calc.caller(block_identifier=p_log['blockNumber']).sg()\n",
    "        ag = current_rate_calc.caller(block_identifier=p_log['blockNumber']).ag()\n",
    "        pscl = current_rate_calc.caller(block_identifier=p_log['blockNumber']).pscl()\n",
    "\n",
    "        event.append(ts)\n",
    "        event.append(prop_term)\n",
    "        event.append(integral_term)\n",
    "        event.append(sg)\n",
    "        event.append(ag)\n",
    "        event.append(pscl)\n",
    "        results.append(event)\n",
    "        \n",
    "    return results"
   ]
  },
  {
   "cell_type": "markdown",
   "id": "11a4185f-829e-4bbe-9ba4-3fd484e6dc5d",
   "metadata": {},
   "source": [
    " Load previously fetched data"
   ]
  },
  {
   "cell_type": "code",
   "execution_count": 5,
   "id": "3970163e-095b-4f0e-b493-b713753c17b6",
   "metadata": {},
   "outputs": [
    {
     "name": "stdout",
     "output_type": "stream",
     "text": [
      "first_block=15151933\n"
     ]
    }
   ],
   "source": [
    "df_orig = pd.read_csv('output/raw_data.csv.gz')\n",
    "# resume at first block after last block processed\n",
    "first_block = int(df_orig['blockNumber'].iloc[-1]) + 1\n",
    "print(f\"{first_block=}\")\n",
    "\n",
    "# These are used only if we have recreate the entire dataset\n",
    "#calc_deploy_block = 14226200\n",
    "#new_calc_deploy_block = 15046690"
   ]
  },
  {
   "cell_type": "markdown",
   "id": "774b67b5-ac5b-4d62-90b3-ba10e01b11cc",
   "metadata": {},
   "source": [
    "Fetch new events"
   ]
  },
  {
   "cell_type": "code",
   "execution_count": 6,
   "id": "0431aebf-39ff-408d-a4a7-f3c2c7457ed3",
   "metadata": {},
   "outputs": [],
   "source": [
    "results = gather_data(first_block, 'latest')"
   ]
  },
  {
   "cell_type": "markdown",
   "id": "69ca3263",
   "metadata": {},
   "source": [
    "Create dataframe of new events and combine with old data. Save updated raw data."
   ]
  },
  {
   "cell_type": "code",
   "execution_count": 7,
   "id": "93c0e97f-925b-43d7-96ce-2ff92aca84c5",
   "metadata": {},
   "outputs": [
    {
     "name": "stdout",
     "output_type": "stream",
     "text": [
      "Processing 0 new events\n"
     ]
    }
   ],
   "source": [
    "df_new = pd.DataFrame(results, columns=['marketPrice', 'redemptionPrice', 'redemptionRate', 'transactionHash',\\\n",
    "                                    'address', 'blockNumber', 'ts', 'prop_term', 'integral_term', 'sg', 'ag', 'pscl'])\n",
    "print(f\"Processing {len(df_new)} new events\")"
   ]
  },
  {
   "cell_type": "code",
   "execution_count": 8,
   "id": "9dd3fd5f-0f92-4a4b-85b2-d47b638e6e8c",
   "metadata": {},
   "outputs": [],
   "source": [
    "if len(df_new) > 0:\n",
    "    df = pd.concat((df_orig, df_new))\n",
    "    df.to_csv('output/raw_data.csv.gz', index=False)\n",
    "else:\n",
    "    df = df_orig"
   ]
  },
  {
   "cell_type": "markdown",
   "id": "d87f5bb4-20ec-4170-bbae-00d05bffc5ad",
   "metadata": {},
   "source": [
    "Data Transformations"
   ]
  },
  {
   "cell_type": "code",
   "execution_count": 9,
   "id": "a5c2853b-d395-43c4-902d-29e50da83a62",
   "metadata": {},
   "outputs": [],
   "source": [
    "df['prop_term'] = df['prop_term'].astype(float)\n",
    "df['integral_term'] = df['integral_term'].astype(float)"
   ]
  },
  {
   "cell_type": "code",
   "execution_count": 10,
   "id": "7366d594",
   "metadata": {},
   "outputs": [],
   "source": [
    "df['timestamp'] = pd.to_datetime(df['ts'], unit='s')"
   ]
  },
  {
   "cell_type": "code",
   "execution_count": 11,
   "id": "32362ec2",
   "metadata": {},
   "outputs": [],
   "source": [
    "df = df.set_index('timestamp')"
   ]
  },
  {
   "cell_type": "code",
   "execution_count": 12,
   "id": "03773354-ad45-46bd-8235-c3d2d5c49421",
   "metadata": {},
   "outputs": [],
   "source": [
    "# these are delta rates, not per-second rates\n",
    "df['p_rate_delta'] = (df['prop_term'] * df['sg'])/1e18\n",
    "df['i_rate_delta'] = (df['integral_term'] * df['ag'])/1e18"
   ]
  },
  {
   "cell_type": "code",
   "execution_count": 13,
   "id": "fddc428e",
   "metadata": {},
   "outputs": [],
   "source": [
    "# create total per-second rate\n",
    "df['total_rate'] = (1e27 + df['p_rate_delta'] + df['i_rate_delta'])\n",
    "\n",
    "# convert these to per-second rates\n",
    "df['p_rate'] = 1e27 + df['p_rate_delta']\n",
    "df['i_rate'] = 1e27 + df['i_rate_delta']"
   ]
  },
  {
   "cell_type": "code",
   "execution_count": 14,
   "id": "78ad1396",
   "metadata": {},
   "outputs": [],
   "source": [
    "# calculate annual rates\n",
    "df['redemptionRate_apy'] = (df['redemptionRate'].apply(Decimal).apply(lambda x: (x/Decimal(1e27))**(86400*365)) - 1) * 100\n",
    "df['total_rate_apy'] = (df['total_rate'].apply(Decimal).apply(lambda x: (x/Decimal(1e27))**(86400*365)) - 1) * 100\n",
    "df['p_rate_apy'] = (df['p_rate'].apply(lambda x: Decimal(int(x))).apply(lambda x: (x/Decimal(1e27))**(86400*365)) - 1) * 100\n",
    "df['i_rate_apy'] = (df['i_rate'].apply(Decimal).apply(lambda x: (x/Decimal(1e27))**(86400*365)) - 1) * 100"
   ]
  },
  {
   "cell_type": "code",
   "execution_count": 15,
   "id": "28bfe1df",
   "metadata": {},
   "outputs": [],
   "source": [
    "df['apy_diff'] = df['redemptionRate_apy'] - df['total_rate_apy']"
   ]
  },
  {
   "cell_type": "markdown",
   "id": "3ddcaa54",
   "metadata": {},
   "source": [
    "Convert for plotting"
   ]
  },
  {
   "cell_type": "code",
   "execution_count": 16,
   "id": "8ae04cef",
   "metadata": {},
   "outputs": [],
   "source": [
    "df['marketPrice'] = df['marketPrice'].apply(lambda x: int(x)/1e27)\n",
    "df['redemptionPrice'] = df['redemptionPrice'].apply(lambda x: int(x)/1e27)"
   ]
  },
  {
   "cell_type": "code",
   "execution_count": 17,
   "id": "028354f9",
   "metadata": {},
   "outputs": [],
   "source": [
    "df['total_rate_apy'] = df['total_rate_apy'].apply(float)\n",
    "df['p_rate_apy'] = df['p_rate_apy'].apply(float)\n",
    "df['i_rate_apy'] = df['i_rate_apy'].apply(float)\n",
    "\n",
    "df['p_rate_delta'] = df['p_rate_delta'].apply(float)\n",
    "df['i_rate_delta'] = df['i_rate_delta'].apply(float)"
   ]
  },
  {
   "cell_type": "markdown",
   "id": "15d15605-7c25-437e-9012-4b5a8b687e50",
   "metadata": {},
   "source": [
    "Save updated final tranformed data"
   ]
  },
  {
   "cell_type": "code",
   "execution_count": 18,
   "id": "abd41430-1127-4db2-bb55-468648b61d0a",
   "metadata": {},
   "outputs": [],
   "source": [
    "df.to_csv('output/final_data.csv.gz')"
   ]
  },
  {
   "cell_type": "code",
   "execution_count": 19,
   "id": "2f2f1055-cbe8-4694-bc93-a56a729902f2",
   "metadata": {},
   "outputs": [
    {
     "data": {
      "text/plain": [
       "<matplotlib.pyplot._IoffContext at 0x124338700>"
      ]
     },
     "execution_count": 19,
     "metadata": {},
     "output_type": "execute_result"
    }
   ],
   "source": [
    "plt.ioff()"
   ]
  },
  {
   "cell_type": "markdown",
   "id": "5a2e93b1-7189-467f-ba4c-3e136b53a21b",
   "metadata": {},
   "source": [
    "# Historical Plot\n",
    "Plot total, p and i rates"
   ]
  },
  {
   "cell_type": "code",
   "execution_count": 20,
   "id": "60f7bf51-b324-4818-86c1-bcdb1573a2eb",
   "metadata": {},
   "outputs": [],
   "source": [
    "def plot(df, title, output_png, timestamp, size=None):\n",
    "\n",
    "    fig, ax = plt.subplots(3, 1, sharex=True)\n",
    "    if size:\n",
    "        fig.set_size_inches(size[0], size[1])\n",
    "\n",
    "    ax[0].plot(df[['marketPrice']], label='market', color='#d62728')\n",
    "    ax[0].plot(df[['redemptionPrice']], label='redemption', color='black', alpha=0.5)\n",
    "    ax[0].legend()\n",
    "    ax[0].grid()\n",
    "\n",
    "\n",
    "    df[['total_rate_apy', 'p_rate_apy', 'i_rate_apy']].plot(ax=ax[1], color=['black', '#1f77b4', '#ff7f0e'])\n",
    "    ax[1].grid()\n",
    "    \n",
    "    ax[2].stackplot(df.index, df['p_rate_delta'], baseline='zero', alpha=0.7,\n",
    "                   labels=['p_rate per-sec(delta)'])\n",
    "    \n",
    "    ax[2].stackplot(df.index, df['i_rate_delta'], baseline='zero', alpha=0.7,\n",
    "                   labels=['i_rate per-sec(delta)'])\n",
    "    \n",
    "    \n",
    "    ax[2].legend(loc='lower left')\n",
    "    ax[2].grid()\n",
    "    plt.suptitle(title, size=25)\n",
    "    \n",
    "    ax[0].axvline(timestamp, color=\"black\", linestyle=\"dashed\", alpha=0.5)\n",
    "    ax[1].axvline(timestamp, color=\"black\", linestyle=\"dashed\", alpha=0.5)\n",
    "    ax[2].axvline(timestamp, color=\"black\", linestyle=\"dashed\", alpha=0.5)\n",
    "    plt.savefig(output_png, facecolor='white', transparent=False)\n",
    "    \n",
    "    plt.show()"
   ]
  },
  {
   "cell_type": "code",
   "execution_count": 21,
   "id": "5fcb1dda",
   "metadata": {},
   "outputs": [
    {
     "data": {
      "text/plain": [
       "'\\n#plt.ion()\\nfig, ax = plt.subplots(3, 1, sharex=True)\\n#ax[0].plot(df[[\\'marketPrice\\', \\'redemptionPrice\\']], label=[\\'market\\', \\'redemption\\'], colors=[\\'#d62728\\', \\'black\\'])\\nax[0].plot(df[[\\'marketPrice\\']], label=\\'market\\', color=\\'#d62728\\')\\nax[0].plot(df[[\\'redemptionPrice\\']], label=\\'redemption\\', color=\\'black\\')\\nax[0].legend()\\nax[0].grid()\\n\\n\\ndf[[\\'total_rate_apy\\', \\'p_rate_apy\\', \\'i_rate_apy\\']].plot(ax=ax[1], color=[\\'black\\', \\'#1f77b4\\', \\'#ff7f0e\\'])\\nax[1].grid()\\n\\nax[2].stackplot(df.index, df[\\'p_rate_delta\\'], df[\\'i_rate_delta\\'], baseline=\\'zero\\', alpha=0.7,\\n                labels=[\\'p_rate per-sec(delta)\\', \\'i_rate per-sec(delta)\\'])\\nax[2].legend(loc=\\'lower left\\')\\nax[2].grid()\\n\\nplt.suptitle(\"Historical\", size=25)\\nplt.savefig(\\'output/controller_monitoring.png\\', facecolor=\\'white\\', transparent=False)\\nplt.show()\\n\\nfig.set_size_inches(10, 6)\\nplt.savefig(\\'output/controller_monitoring_small.png\\', facecolor=\\'white\\', transparent=False)\\nplt.show()\\n'"
      ]
     },
     "execution_count": 21,
     "metadata": {},
     "output_type": "execute_result"
    }
   ],
   "source": [
    "'''\n",
    "#plt.ion()\n",
    "fig, ax = plt.subplots(3, 1, sharex=True)\n",
    "#ax[0].plot(df[['marketPrice', 'redemptionPrice']], label=['market', 'redemption'], colors=['#d62728', 'black'])\n",
    "ax[0].plot(df[['marketPrice']], label='market', color='#d62728')\n",
    "ax[0].plot(df[['redemptionPrice']], label='redemption', color='black')\n",
    "ax[0].legend()\n",
    "ax[0].grid()\n",
    "\n",
    "\n",
    "df[['total_rate_apy', 'p_rate_apy', 'i_rate_apy']].plot(ax=ax[1], color=['black', '#1f77b4', '#ff7f0e'])\n",
    "ax[1].grid()\n",
    "\n",
    "ax[2].stackplot(df.index, df['p_rate_delta'], df['i_rate_delta'], baseline='zero', alpha=0.7,\n",
    "                labels=['p_rate per-sec(delta)', 'i_rate per-sec(delta)'])\n",
    "ax[2].legend(loc='lower left')\n",
    "ax[2].grid()\n",
    "\n",
    "plt.suptitle(\"Historical\", size=25)\n",
    "plt.savefig('output/controller_monitoring.png', facecolor='white', transparent=False)\n",
    "plt.show()\n",
    "\n",
    "fig.set_size_inches(10, 6)\n",
    "plt.savefig('output/controller_monitoring_small.png', facecolor='white', transparent=False)\n",
    "plt.show()\n",
    "'''\n"
   ]
  },
  {
   "cell_type": "code",
   "execution_count": 22,
   "id": "79380551-e84c-4dac-bbd1-b1dd2b09bc8c",
   "metadata": {},
   "outputs": [
    {
     "data": {
      "image/png": "[encoded data removed]",
      "text/plain": [
       "<Figure size 1440x864 with 3 Axes>"
      ]
     },
     "metadata": {
      "needs_background": "light"
     },
     "output_type": "display_data"
    },
    {
     "ename": "NameError",
     "evalue": "name 'timestamp' is not defined",
     "output_type": "error",
     "traceback": [
      "\u001b[0;31m---------------------------------------------------------------------------\u001b[0m",
      "\u001b[0;31mNameError\u001b[0m                                 Traceback (most recent call last)",
      "\u001b[0;32m/var/folders/z_/tzvx3mfs7rsbb8dxt0rd157w0000gn/T/ipykernel_4818/4050238815.py\u001b[0m in \u001b[0;36m<module>\u001b[0;34m\u001b[0m\n\u001b[1;32m      1\u001b[0m \u001b[0mplot\u001b[0m\u001b[0;34m(\u001b[0m\u001b[0mdf\u001b[0m\u001b[0;34m,\u001b[0m \u001b[0;34m\"Rai historical\"\u001b[0m\u001b[0;34m,\u001b[0m \u001b[0;34m'output/controller_monitoring.png'\u001b[0m\u001b[0;34m,\u001b[0m \u001b[0mtimestamp\u001b[0m\u001b[0;34m=\u001b[0m\u001b[0mpd\u001b[0m\u001b[0;34m.\u001b[0m\u001b[0mto_datetime\u001b[0m\u001b[0;34m(\u001b[0m\u001b[0mint\u001b[0m\u001b[0;34m(\u001b[0m\u001b[0mdf\u001b[0m\u001b[0;34m[\u001b[0m\u001b[0;34m'ts'\u001b[0m\u001b[0;34m]\u001b[0m\u001b[0;34m.\u001b[0m\u001b[0miloc\u001b[0m\u001b[0;34m[\u001b[0m\u001b[0;34m-\u001b[0m\u001b[0;36m1\u001b[0m\u001b[0;34m]\u001b[0m\u001b[0;34m)\u001b[0m\u001b[0;34m,\u001b[0m \u001b[0munit\u001b[0m\u001b[0;34m=\u001b[0m\u001b[0;34m's'\u001b[0m\u001b[0;34m)\u001b[0m\u001b[0;34m)\u001b[0m\u001b[0;34m\u001b[0m\u001b[0;34m\u001b[0m\u001b[0m\n\u001b[0;32m----> 2\u001b[0;31m \u001b[0mplot\u001b[0m\u001b[0;34m(\u001b[0m\u001b[0mdf\u001b[0m\u001b[0;34m,\u001b[0m \u001b[0;34m\"Rai historical\"\u001b[0m\u001b[0;34m,\u001b[0m \u001b[0;34m'output/controller_monitoring_small.png'\u001b[0m\u001b[0;34m,\u001b[0m \u001b[0mtimestamp\u001b[0m\u001b[0;34m==\u001b[0m\u001b[0mpd\u001b[0m\u001b[0;34m.\u001b[0m\u001b[0mto_datetime\u001b[0m\u001b[0;34m(\u001b[0m\u001b[0mint\u001b[0m\u001b[0;34m(\u001b[0m\u001b[0mdf\u001b[0m\u001b[0;34m[\u001b[0m\u001b[0;34m'ts'\u001b[0m\u001b[0;34m]\u001b[0m\u001b[0;34m.\u001b[0m\u001b[0miloc\u001b[0m\u001b[0;34m[\u001b[0m\u001b[0;34m-\u001b[0m\u001b[0;36m1\u001b[0m\u001b[0;34m]\u001b[0m\u001b[0;34m)\u001b[0m\u001b[0;34m,\u001b[0m \u001b[0munit\u001b[0m\u001b[0;34m=\u001b[0m\u001b[0;34m's'\u001b[0m\u001b[0;34m)\u001b[0m\u001b[0;34m,\u001b[0m \u001b[0msize\u001b[0m\u001b[0;34m=\u001b[0m\u001b[0;34m(\u001b[0m\u001b[0;36m10\u001b[0m\u001b[0;34m,\u001b[0m \u001b[0;36m6\u001b[0m\u001b[0;34m)\u001b[0m\u001b[0;34m)\u001b[0m\u001b[0;34m\u001b[0m\u001b[0;34m\u001b[0m\u001b[0m\n\u001b[0m",
      "\u001b[0;31mNameError\u001b[0m: name 'timestamp' is not defined"
     ]
    }
   ],
   "source": [
    "plot(df, \"Rai historical\", 'output/controller_monitoring.png', timestamp=pd.to_datetime(int(df['ts'].iloc[-1]), unit='s'))\n",
    "plot(df, \"Rai historical\", 'output/controller_monitoring_small.png', timestamp==pd.to_datetime(int(df['ts'].iloc[-1]), unit='s'), size=(10, 6))"
   ]
  },
  {
   "cell_type": "markdown",
   "id": "5d027872-2ca5-4ddf-976c-af28d9ac88bc",
   "metadata": {},
   "source": [
    "# Extrapolation"
   ]
  },
  {
   "cell_type": "markdown",
   "id": "d2dd9874-77e0-4ae7-8514-1031f5ac3ee4",
   "metadata": {},
   "source": [
    "Parameters"
   ]
  },
  {
   "cell_type": "code",
   "execution_count": null,
   "id": "30c4f436-1202-48a8-ab47-3f6654bcacc6",
   "metadata": {},
   "outputs": [],
   "source": [
    "# Number of market price TWAP updates to peform\n",
    "N_STEPS = 200\n",
    "\n",
    "# Interval between market price TWAP updates\n",
    "UPDATE_INTERVAL = 12 * 3600"
   ]
  },
  {
   "cell_type": "markdown",
   "id": "a776366e-51b8-42de-bf3d-ed76527c8659",
   "metadata": {},
   "source": [
    "Retrieve most recent state"
   ]
  },
  {
   "cell_type": "code",
   "execution_count": null,
   "id": "80fbaf2a-b66b-4e8c-9a9a-b0c288022a7f",
   "metadata": {},
   "outputs": [],
   "source": [
    "df.tail(1)"
   ]
  },
  {
   "cell_type": "code",
   "execution_count": null,
   "id": "25b30c35-658c-4949-96e2-3b46c865f2d1",
   "metadata": {},
   "outputs": [],
   "source": [
    "kp = df['sg'].iloc[-1] # WAD\n",
    "ki = df['ag'].iloc[-1] # WAD\n",
    "alpha = df['pscl'].iloc[-1]\n",
    "prop_term = df['prop_term'].iloc[-1] # RAY\n",
    "integral_term = df['integral_term'].iloc[-1]# RAY\n",
    "last_ts = int(df['ts'].iloc[-1])\n",
    "last_timestamp = pd.to_datetime(last_ts, unit='s')\n",
    "\n",
    "last_market_price = df['marketPrice'].iloc[-1]\n",
    "last_redemption_price = df['redemptionPrice'].iloc[-1]\n",
    "last_redemption_rate = df['redemptionRate'].iloc[-1] # RAY, per-sec"
   ]
  },
  {
   "cell_type": "code",
   "execution_count": null,
   "id": "7d706d2c-e204-4544-88df-e456edbba1b0",
   "metadata": {},
   "outputs": [],
   "source": [
    "print(f\"{last_timestamp=}\")\n",
    "print(f\"{kp=}\")\n",
    "print(f\"{ki=}\")\n",
    "print(f\"{alpha=}\")\n",
    "print(f\"{prop_term=}\")\n",
    "print(f\"{integral_term=}\")\n",
    "print(f\"{last_redemption_rate=}\")"
   ]
  },
  {
   "cell_type": "markdown",
   "id": "1d97715e-2669-4d9f-8150-3d1945d2365b",
   "metadata": {},
   "source": [
    "Helper functions for extrapolation"
   ]
  },
  {
   "cell_type": "code",
   "execution_count": null,
   "id": "04369266-1d51-4336-9d52-62a4467b0056",
   "metadata": {},
   "outputs": [],
   "source": [
    "def post_process(results):\n",
    "    ''' Prepare sim results for merging with old data and plotting '''\n",
    "    df = pd.DataFrame(results, columns=['ts', 'total_rate', 'p_rate_delta', 'i_rate_delta', 'redemptionPrice', 'marketPrice'])\n",
    "    df['timestamp'] = pd.to_datetime(df['ts'], unit='s')\n",
    "    df = df.set_index('timestamp')\n",
    "    \n",
    "    # create total per-second rate\n",
    "    #df['total_rate'] = (1e27 + df['p_rate_delta'] + df['i_rate_delta'])\n",
    "\n",
    "    # convert these to per-second rates\n",
    "    df['p_rate'] = 1e27 + df['p_rate_delta']\n",
    "    df['i_rate'] = 1e27 + df['i_rate_delta']\n",
    "    \n",
    "    df['total_rate_apy'] = (df['total_rate'].apply(Decimal).apply(lambda x: (x/Decimal(1e27))**(86400*365)) - 1) * 100\n",
    "    df['p_rate_apy'] = (df['p_rate'].apply(lambda x: Decimal(int(x))).apply(lambda x: (x/Decimal(1e27))**(86400*365)) - 1) * 100\n",
    "    df['i_rate_apy'] = (df['i_rate'].apply(Decimal).apply(lambda x: (x/Decimal(1e27))**(86400*365)) - 1) * 100\n",
    "\n",
    "    df['total_rate_apy'] = df['total_rate_apy'].apply(float)\n",
    "    df['p_rate_apy'] = df['p_rate_apy'].apply(float)\n",
    "    df['i_rate_apy'] = df['i_rate_apy'].apply(float)\n",
    "\n",
    "    df['p_rate_delta'] = df['p_rate_delta'].apply(float)\n",
    "    df['i_rate_delta'] = df['i_rate_delta'].apply(float) \n",
    "    \n",
    "    return df\n",
    "\n",
    "def merge(df, df_new):\n",
    "    ''' Merge post-processed sim results with old data '''\n",
    "    merged = pd.concat([df, df_new], axis=0, ignore_index=True) \n",
    "    \n",
    "    merged['timestamp'] = pd.to_datetime(merged['ts'], unit='s')\n",
    "    merged = merged.set_index('timestamp')\n",
    "    \n",
    "    return merged   "
   ]
  },
  {
   "cell_type": "markdown",
   "id": "1e1cc197-4716-4f78-8ff0-17ef49e7ca2f",
   "metadata": {},
   "source": [
    "Function to plot simulation output"
   ]
  },
  {
   "cell_type": "markdown",
   "id": "73c7edb8-191a-4a5c-ae6a-c312755cc6cc",
   "metadata": {},
   "source": [
    "## Extrapolation #1 : Constant Market Prices\n",
    "\n",
    "Hold market price constant."
   ]
  },
  {
   "cell_type": "code",
   "execution_count": null,
   "id": "51f44f8c-3361-4a8b-8f0b-dd5001cd27e2",
   "metadata": {},
   "outputs": [],
   "source": [
    "# Constant Market Prices\n",
    "results_e = []\n",
    "market_prices = [last_market_price for _ in range(N_STEPS)]\n",
    "timestamps = [last_ts + i*UPDATE_INTERVAL for i in range(1, N_STEPS + 1)]\n",
    "\n",
    "rai = Rai(last_redemption_price, last_redemption_rate, last_ts, kp, ki, alpha, prop_term, integral_term)\n",
    "for i, mp in enumerate(market_prices):\n",
    "    ts, total_rate, p_rate, i_rate, rp, mp = rai.process(mp, int(timestamps[i]))\n",
    "    results_e.append((ts, total_rate, p_rate, i_rate, rp, mp))"
   ]
  },
  {
   "cell_type": "code",
   "execution_count": null,
   "id": "f85bb4ff-8221-494e-9d31-624d56f7e545",
   "metadata": {},
   "outputs": [],
   "source": [
    "df_e = post_process(results_e)\n",
    "merged_e = merge(df, df_e)"
   ]
  },
  {
   "cell_type": "code",
   "execution_count": null,
   "id": "07e5bf6b-f7e9-4815-a1fb-ef2ba41747cb",
   "metadata": {},
   "outputs": [],
   "source": [
    "plot(merged_e, \"Rai rates extrapolation w/ constant market price\", 'output/extrapolation_constant_market.png', last_timestamp)\n",
    "plot(merged_e, \"Rai rates extrapolation w/ constant market price\", 'output/extrapolation_constant_market_small.png', last_timestamp, size=(10, 6))"
   ]
  },
  {
   "cell_type": "markdown",
   "id": "9bff9310-4067-497e-825d-ae1fac240c23",
   "metadata": {
    "tags": []
   },
   "source": [
    "## Extrapolation #2 : Converged Market Prices\n",
    "\n",
    "Market price equals redemption price"
   ]
  },
  {
   "cell_type": "code",
   "execution_count": null,
   "id": "f9cbdbcf-3974-4f0d-a3ca-ec22bb07a2c4",
   "metadata": {},
   "outputs": [],
   "source": [
    "# Converged Market Prices\n",
    "rai = Rai(last_redemption_price, last_redemption_rate, last_ts, kp, ki, alpha, prop_term, integral_term)\n",
    "results_conv = []\n",
    "for ts in timestamps:\n",
    "    ts, total_rate, p_rate, i_rate, rp, mp = rai.process(rai.redemption_price, int(ts))\n",
    "    results_conv.append((ts, total_rate, p_rate, i_rate, rp, mp))"
   ]
  },
  {
   "cell_type": "code",
   "execution_count": null,
   "id": "ff8df82b-edd3-4093-8b4e-82b5f9ec4c0a",
   "metadata": {},
   "outputs": [],
   "source": [
    "df_conv = post_process(results_conv)\n",
    "merged_conv = merge(df, df_conv)"
   ]
  },
  {
   "cell_type": "code",
   "execution_count": null,
   "id": "534a1027-056d-491e-b88d-9d092eee4563",
   "metadata": {},
   "outputs": [],
   "source": [
    "plot(merged_conv, \"Rai rates extrapolation w/ constant convergence\", 'output/extrapolation_constant_convergence.png', last_timestamp)\n",
    "plot(merged_conv, \"Rai rates extrapolation w/ constant convergence\",\n",
    "     'output/extrapolation_constant_convergence_small.png', last_timestamp, size=(10, 6))"
   ]
  },
  {
   "cell_type": "markdown",
   "id": "65b29551-0cc1-44d9-92f5-c06db950631c",
   "metadata": {
    "tags": []
   },
   "source": [
    "## Extrapolation #3 : Zero-rate Market Prices\n",
    "\n",
    "Market price creates zero total rate."
   ]
  },
  {
   "cell_type": "code",
   "execution_count": null,
   "id": "1a7c57fe-e699-4411-927a-3129dc29a915",
   "metadata": {},
   "outputs": [],
   "source": [
    "# Zero rate market prices\n",
    "rai = Rai(last_redemption_price, last_redemption_rate, last_ts, kp, ki, alpha, prop_term, integral_term)\n",
    "results_zero = []\n",
    "for ts in timestamps:\n",
    "    # current iRate(delta)\n",
    "    ki_rate = rai.ki/WAD * rai.integral_term\n",
    "    # current pRate(Delta)\n",
    "    \n",
    "    kp_rate = rai.kp/WAD * rai.prop_term\n",
    "\n",
    "    nec_prop_term = -ki_rate/rai.kp * WAD\n",
    "    \n",
    "    #print(rai.prop_term, nec_prop_term)\n",
    "    #kp_rate = kp * error\n",
    "    needed_error = -ki_rate/rai.kp/WAD\n",
    "    #print(ki_rate, needed_error)\n",
    "    input_mp = float(rai.redemption_price) - (nec_prop_term/1e27 * float(rai.redemption_price))\n",
    "    #print(input_mp)\n",
    "    ts, total_rate, p_rate, i_rate, rp, mp = rai.process(input_mp, int(ts))\n",
    "    results_zero.append((ts, total_rate, p_rate, i_rate, rp, mp))"
   ]
  },
  {
   "cell_type": "code",
   "execution_count": null,
   "id": "d5c40373-8ab0-41fd-bc2c-1c5ac3a65f9e",
   "metadata": {},
   "outputs": [],
   "source": [
    "df_zero= post_process(results_zero)\n",
    "merged_zero = merge(df, df_zero)"
   ]
  },
  {
   "cell_type": "code",
   "execution_count": null,
   "id": "02dfac9d-8bfc-4508-9fad-d0af97701e96",
   "metadata": {},
   "outputs": [],
   "source": [
    "plot(merged_zero, \"Rai market price necessary for zero rates\", 'output/extrapolation_zero_rates.png', last_timestamp)\n",
    "plot(merged_zero, \"Rai market price necessary for zero rates\", 'output/extrapolation_zero_rates_small.png', last_timestamp, size=(10, 6))"
   ]
  },
  {
   "cell_type": "markdown",
   "id": "8b2cb707-607b-4fc8-852c-b18eef3c0215",
   "metadata": {
    "tags": []
   },
   "source": [
    "## Extrapolation #4 : Market steps\n",
    "\n",
    "Market price steps to a price and stays there"
   ]
  },
  {
   "cell_type": "markdown",
   "id": "54cc9b55-7e67-4532-924d-af5d6a656db1",
   "metadata": {},
   "source": [
    "Function for just plotting market and redemption"
   ]
  },
  {
   "cell_type": "code",
   "execution_count": null,
   "id": "c4d5796e-815f-4093-9911-721631985d09",
   "metadata": {},
   "outputs": [],
   "source": [
    "def plot_simple(df, title, ax=None):\n",
    "    ax.plot(df[['marketPrice']], label='market', color='#d62728')\n",
    "    ax.plot(df[['redemptionPrice']], label='redemption', color='black', alpha=0.5)\n",
    "    ax.legend()\n",
    "    ax.set_title(title)\n",
    "    ax.grid()\n",
    "    \n",
    "def plot_steps(merged_steps, price_steps, output_png, timestamp, tight=False, size=None):\n",
    "    x = math.ceil(math.sqrt(len(price_steps)))\n",
    "    y = math.floor(math.sqrt(len(price_steps)))\n",
    "    fig, ax = plt.subplots(x, y)\n",
    "    \n",
    "    if size:\n",
    "        fig.set_size_inches(size[0], size[1])\n",
    "\n",
    "    for i, step in enumerate(price_steps):\n",
    "        this_ax = ax.ravel()[i] if isinstance(ax, np.ndarray) else ax            \n",
    "        plot_simple(merged_steps[step], f\"Rai rates extrapolation w/ step to {step}\", ax=this_ax)\n",
    "        \n",
    "        this_ax.axvline(timestamp, color=\"black\", linestyle=\"dashed\", alpha=0.5)\n",
    "    \n",
    "    if tight:\n",
    "        plt.tight_layout()\n",
    "    plt.savefig(output_png, facecolor='white', transparent=False)\n",
    "    \n",
    "    \n",
    "    "
   ]
  },
  {
   "cell_type": "code",
   "execution_count": null,
   "id": "37ae2458-4822-4345-b629-731a86c7bd4b",
   "metadata": {},
   "outputs": [],
   "source": [
    "def post_process_steps(results_step, price_steps):\n",
    "    df_steps = {}\n",
    "    for step in price_steps:\n",
    "        df_steps[step] = post_process(results_steps[step])\n",
    "    \n",
    "    merged_steps = {}\n",
    "    for step, df_step in df_steps.items():\n",
    "        merged_steps[step] = merge(df, df_step) \n",
    "        \n",
    "    return merged_steps"
   ]
  },
  {
   "cell_type": "markdown",
   "id": "f16a0872-6129-40e9-a463-a75d9518bbf8",
   "metadata": {
    "tags": []
   },
   "source": [
    "#### Extrapolation #4a : Find market step that produces the best final convergence"
   ]
  },
  {
   "cell_type": "code",
   "execution_count": null,
   "id": "81680999-fc7b-4e56-886d-9a9015fc5940",
   "metadata": {},
   "outputs": [],
   "source": [
    "# Step Market Prices\n",
    "\n",
    "# Number of different price steps to simulate\n",
    "# This is different than N_STEPS(time) defined above\n",
    "N_PRICE_STEPS = 100\n",
    "\n",
    "MIN_PRICE_STEP = last_redemption_price -0.02\n",
    "MAX_PRICE_STEP = last_redemption_price - 0.01\n",
    "\n",
    "price_steps = np.round(np.linspace(MIN_PRICE_STEP, MAX_PRICE_STEP, N_PRICE_STEPS), 5)\n",
    "results_steps = {}\n",
    "timestamps = [last_ts + i*UPDATE_INTERVAL for i in range(1, N_STEPS + 1)]\n",
    "errors = []\n",
    "for step in price_steps:\n",
    "    market_prices = [step for _ in range(N_STEPS)]\n",
    "    results_steps[step] = []\n",
    "    \n",
    "    rai = Rai(last_redemption_price, last_redemption_rate, last_ts, kp, ki, alpha, prop_term, integral_term)\n",
    "    for i, mp in enumerate(market_prices):\n",
    "        ts, total_rate, p_rate, i_rate, rp, mp = rai.process(mp, int(timestamps[i]))\n",
    "        results_steps[step].append((ts, total_rate, p_rate, i_rate, rp, mp)) \n",
    "    x = np.array(results_steps[step])\n",
    "    errors.append((step, abs(float(x[-1, -2]) - x[-1, -1])))    "
   ]
  },
  {
   "cell_type": "code",
   "execution_count": null,
   "id": "3f9bd88f-15a8-40ec-90cb-887d91ee02c1",
   "metadata": {},
   "outputs": [],
   "source": [
    "min_error_step = min(errors, key=lambda x: x[1])\n",
    "print(f\"The final absolute error(market-redemption) after {N_STEPS=} is achieved by a market step to {min_error_step=}\")"
   ]
  },
  {
   "cell_type": "markdown",
   "id": "bd0d5b73-36cc-43b3-86e5-82eb7174e265",
   "metadata": {},
   "source": [
    "Plot min error step"
   ]
  },
  {
   "cell_type": "code",
   "execution_count": null,
   "id": "68b206b8-e9b7-4799-bb6b-b23d8f567dd4",
   "metadata": {},
   "outputs": [],
   "source": [
    "price_steps = [min_error_step[0]]\n",
    "results_steps = {}\n",
    "timestamps = [last_ts + i*UPDATE_INTERVAL for i in range(1, N_STEPS + 1)]\n",
    "errors = []\n",
    "for step in price_steps:\n",
    "    market_prices = [step for _ in range(N_STEPS)]\n",
    "    results_steps[step] = []\n",
    "    \n",
    "    rai = Rai(last_redemption_price, last_redemption_rate, last_ts, kp, ki, alpha, prop_term, integral_term)\n",
    "    for i, mp in enumerate(market_prices):\n",
    "        ts, total_rate, p_rate, i_rate, rp, mp = rai.process(mp, int(timestamps[i]))\n",
    "        results_steps[step].append((ts, total_rate, p_rate, i_rate, rp, mp)) "
   ]
  },
  {
   "cell_type": "code",
   "execution_count": null,
   "id": "bb7a666e-6035-46ed-9c74-4be9e7a905b8",
   "metadata": {},
   "outputs": [],
   "source": [
    "merged_steps = post_process_steps(results_steps, price_steps)"
   ]
  },
  {
   "cell_type": "code",
   "execution_count": null,
   "id": "46787a38-4e5d-4710-a87e-804c122c8625",
   "metadata": {},
   "outputs": [],
   "source": [
    "plot_steps(merged_steps, price_steps, f'output/controller_extrapolation_{len(price_steps)}_steps.png', last_timestamp)\n",
    "plot_steps(merged_steps, price_steps, f'output/controller_extrapolation_{len(price_steps)}_steps_small.png', last_timestamp, size=(10, 6))"
   ]
  },
  {
   "cell_type": "markdown",
   "id": "01556b03-e985-4ee4-ac7d-ff2d3b6b07da",
   "metadata": {
    "tags": []
   },
   "source": [
    "#### Extrapolation #4b : Plot different market steps"
   ]
  },
  {
   "cell_type": "code",
   "execution_count": null,
   "id": "2787ed1b-07fa-4149-b8f1-74cd5872cd6d",
   "metadata": {},
   "outputs": [],
   "source": [
    "# Step Market Prices\n",
    "\n",
    "# Number of different price steps to simulate\n",
    "# This is different than N_STEPS(time) defined above\n",
    "N_PRICE_STEPS = 10\n",
    "\n",
    "MIN_PRICE_STEP = last_redemption_price -0.02\n",
    "MAX_PRICE_STEP = last_redemption_price - 0.01\n",
    "\n",
    "price_steps = np.round(np.linspace(MIN_PRICE_STEP, MAX_PRICE_STEP, N_PRICE_STEPS), 5)\n",
    "results_steps = {}\n",
    "timestamps = [last_ts + i*UPDATE_INTERVAL for i in range(1, N_STEPS + 1)]\n",
    "errors = []\n",
    "for step in price_steps:\n",
    "    market_prices = [step for _ in range(N_STEPS)]\n",
    "    results_steps[step] = []\n",
    "    \n",
    "    rai = Rai(last_redemption_price, last_redemption_rate, last_ts, kp, ki, alpha, prop_term, integral_term)\n",
    "    for i, mp in enumerate(market_prices):\n",
    "        ts, total_rate, p_rate, i_rate, rp, mp = rai.process(mp, int(timestamps[i]))\n",
    "        results_steps[step].append((ts, total_rate, p_rate, i_rate, rp, mp)) \n",
    "    x = np.array(results_steps[step])\n",
    "    errors.append((step, abs(float(x[-1, -2]) - x[-1, -1])))   "
   ]
  },
  {
   "cell_type": "code",
   "execution_count": null,
   "id": "042b9e99-7966-43df-b23c-077036463ee4",
   "metadata": {},
   "outputs": [],
   "source": [
    "#price_steps = [min_error_step[0]]\n",
    "results_steps = {}\n",
    "timestamps = [last_ts + i*UPDATE_INTERVAL for i in range(1, N_STEPS + 1)]\n",
    "errors = []\n",
    "for step in price_steps:\n",
    "    market_prices = [step for _ in range(N_STEPS)]\n",
    "    results_steps[step] = []\n",
    "    \n",
    "    rai = Rai(last_redemption_price, last_redemption_rate, last_ts, kp, ki, alpha, prop_term, integral_term)\n",
    "    for i, mp in enumerate(market_prices):\n",
    "        ts, total_rate, p_rate, i_rate, rp, mp = rai.process(mp, int(timestamps[i]))\n",
    "        results_steps[step].append((ts, total_rate, p_rate, i_rate, rp, mp)) "
   ]
  },
  {
   "cell_type": "code",
   "execution_count": null,
   "id": "37bc9aff-5ce6-4364-9726-172fdf463370",
   "metadata": {},
   "outputs": [],
   "source": [
    "merged_steps = post_process_steps(results_steps, price_steps)"
   ]
  },
  {
   "cell_type": "code",
   "execution_count": null,
   "id": "171dd112-d4d4-410d-a730-8c37c40b3578",
   "metadata": {},
   "outputs": [],
   "source": [
    "plot_steps(merged_steps, price_steps, f'output/controller_extrapolation_{len(price_steps)}_steps.png', last_timestamp, tight=True)"
   ]
  },
  {
   "cell_type": "code",
   "execution_count": null,
   "id": "5395fad0-ffd4-400a-8825-1786e2197185",
   "metadata": {},
   "outputs": [],
   "source": []
  }
 ],
 "metadata": {
  "kernelspec": {
   "display_name": "local-venv",
   "language": "python",
   "name": "local-venv"
  },
  "language_info": {
   "codemirror_mode": {
    "name": "ipython",
    "version": 3
   },
   "file_extension": ".py",
   "mimetype": "text/x-python",
   "name": "python",
   "nbconvert_exporter": "python",
   "pygments_lexer": "ipython3",
   "version": "3.8.5"
  }
 },
 "nbformat": 4,
 "nbformat_minor": 5
}
